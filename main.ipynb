{
 "cells": [
  {
   "cell_type": "code",
   "execution_count": 2,
   "metadata": {},
   "outputs": [],
   "source": [
    "import pandas as pd\n",
    "import numpy as np\n",
    "import plotly.express as px\n",
    "import matplotlib.pyplot as plt\n",
    "from statsmodels.tsa.stattools import adfuller\n",
    "from statsmodels.graphics.tsaplots import plot_pacf\n",
    "from statsmodels.tsa.arima.model import ARIMA\n",
    "import seaborn as sns"
   ]
  },
  {
   "cell_type": "code",
   "execution_count": 47,
   "metadata": {},
   "outputs": [
    {
     "name": "stdout",
     "output_type": "stream",
     "text": [
      "City\n",
      "Mandalay     332\n",
      "Naypyitaw    328\n",
      "Yangon       340\n",
      "Name: gross income, dtype: int64\n"
     ]
    }
   ],
   "source": [
    "df = pd.read_csv(\"Sales_data.csv\") # Initialize DataFrame\n",
    "\n",
    "df = df[[\"City\", \"Date\", \"gross income\", \"Product line\", \"Total\", \"cogs\", \"Quantity\"]] # Remove unnecessary columns\n",
    "\n",
    "df = df.rename(columns={\"cogs\" : \"cost price\"}) # Rename column for clarity\n",
    "\n",
    "df.dropna(subset=[\"Date\"], inplace=True) # Delete rows with missing dates\n",
    "\n",
    "df.drop_duplicates(subset=None, keep=\"first\", inplace=True) # Check for and remove duplicate rows if present\n",
    "\n",
    "df[\"Date\"] = pd.to_datetime(df[\"Date\"], format=\"%m/%d/%Y\") # Ensure Date column is in DateTime format\n",
    "\n",
    "df[\"Date\"] =  df[\"Date\"].sort_values(ascending=True).values # Sort dates in ascending order\n",
    "\n",
    "def round_off(number):\n",
    "    return round(number, 2)\n",
    "\n",
    "df[\"gross income\"] = df[\"gross income\"].apply(round_off) # Round off gross income values to 2 decimals\n",
    "df[\"Total\"] = df[\"Total\"].apply(round_off)\n",
    "\n",
    "# Breakdown Amount of Sales per City\n",
    "city_groups = df.groupby(\"City\").count()\n",
    "print(city_groups[\"gross income\"]) # Print the amount of sales per city\n",
    "\n",
    "# df.drop_duplicates(subset=\"Date\", keep=\"first\") # Remove duplicate dates\n",
    "\n",
    "# Combine all stats for each date\n",
    "df_grouped_gross_income = df.groupby('Date', as_index=False)['gross income'].sum()\n",
    "df_grouped_total = df.groupby('Total', as_index=False)['Total'].sum()\n",
    "df_grouped_cost_price = df.groupby('cost price', as_index=False)['cost price'].sum()\n",
    "df_grouped_quantity = df.groupby('Quantity', as_index=False)['Quantity'].sum()\n",
    "\n",
    "# Update DataFrame with unique dates\n",
    "new_df = pd.DataFrame()\n",
    "new_df[\"Date\"] = df[\"Date\"].unique()\n",
    "new_df[\"Total\"] = df_grouped_total[\"Total\"]\n",
    "new_df[\"cost price\"] = df_grouped_cost_price[\"cost price\"]\n",
    "new_df[\"Quantity\"] = df_grouped_quantity[\"Quantity\"]\n",
    "new_df[\"gross income\"] = df_grouped_gross_income[\"gross income\"]"
   ]
  },
  {
   "cell_type": "code",
   "execution_count": 65,
   "metadata": {},
   "outputs": [
    {
     "data": {
      "text/html": [
       "<div>\n",
       "<style scoped>\n",
       "    .dataframe tbody tr th:only-of-type {\n",
       "        vertical-align: middle;\n",
       "    }\n",
       "\n",
       "    .dataframe tbody tr th {\n",
       "        vertical-align: top;\n",
       "    }\n",
       "\n",
       "    .dataframe thead th {\n",
       "        text-align: right;\n",
       "    }\n",
       "</style>\n",
       "<table border=\"1\" class=\"dataframe\">\n",
       "  <thead>\n",
       "    <tr style=\"text-align: right;\">\n",
       "      <th></th>\n",
       "      <th>City</th>\n",
       "      <th>Date</th>\n",
       "      <th>gross income</th>\n",
       "      <th>Product line</th>\n",
       "      <th>Total</th>\n",
       "      <th>cost price</th>\n",
       "      <th>Quantity</th>\n",
       "      <th>Profit Margins</th>\n",
       "    </tr>\n",
       "  </thead>\n",
       "  <tbody>\n",
       "    <tr>\n",
       "      <th>0</th>\n",
       "      <td>Yangon</td>\n",
       "      <td>2019-01-01</td>\n",
       "      <td>26.14</td>\n",
       "      <td>Health and beauty</td>\n",
       "      <td>548.97</td>\n",
       "      <td>522.83</td>\n",
       "      <td>7</td>\n",
       "      <td>4.76</td>\n",
       "    </tr>\n",
       "    <tr>\n",
       "      <th>1</th>\n",
       "      <td>Naypyitaw</td>\n",
       "      <td>2019-01-01</td>\n",
       "      <td>3.82</td>\n",
       "      <td>Electronic accessories</td>\n",
       "      <td>80.22</td>\n",
       "      <td>76.40</td>\n",
       "      <td>5</td>\n",
       "      <td>4.76</td>\n",
       "    </tr>\n",
       "    <tr>\n",
       "      <th>2</th>\n",
       "      <td>Yangon</td>\n",
       "      <td>2019-01-01</td>\n",
       "      <td>16.22</td>\n",
       "      <td>Home and lifestyle</td>\n",
       "      <td>340.53</td>\n",
       "      <td>324.31</td>\n",
       "      <td>7</td>\n",
       "      <td>4.76</td>\n",
       "    </tr>\n",
       "    <tr>\n",
       "      <th>3</th>\n",
       "      <td>Yangon</td>\n",
       "      <td>2019-01-01</td>\n",
       "      <td>23.29</td>\n",
       "      <td>Health and beauty</td>\n",
       "      <td>489.05</td>\n",
       "      <td>465.76</td>\n",
       "      <td>8</td>\n",
       "      <td>4.76</td>\n",
       "    </tr>\n",
       "    <tr>\n",
       "      <th>4</th>\n",
       "      <td>Yangon</td>\n",
       "      <td>2019-01-01</td>\n",
       "      <td>30.21</td>\n",
       "      <td>Sports and travel</td>\n",
       "      <td>634.38</td>\n",
       "      <td>604.17</td>\n",
       "      <td>7</td>\n",
       "      <td>4.76</td>\n",
       "    </tr>\n",
       "  </tbody>\n",
       "</table>\n",
       "</div>"
      ],
      "text/plain": [
       "        City       Date  gross income            Product line   Total  \\\n",
       "0     Yangon 2019-01-01         26.14       Health and beauty  548.97   \n",
       "1  Naypyitaw 2019-01-01          3.82  Electronic accessories   80.22   \n",
       "2     Yangon 2019-01-01         16.22      Home and lifestyle  340.53   \n",
       "3     Yangon 2019-01-01         23.29       Health and beauty  489.05   \n",
       "4     Yangon 2019-01-01         30.21       Sports and travel  634.38   \n",
       "\n",
       "   cost price  Quantity  Profit Margins  \n",
       "0      522.83         7            4.76  \n",
       "1       76.40         5            4.76  \n",
       "2      324.31         7            4.76  \n",
       "3      465.76         8            4.76  \n",
       "4      604.17         7            4.76  "
      ]
     },
     "execution_count": 65,
     "metadata": {},
     "output_type": "execute_result"
    }
   ],
   "source": [
    "df.head()"
   ]
  },
  {
   "cell_type": "code",
   "execution_count": 48,
   "metadata": {},
   "outputs": [
    {
     "data": {
      "text/html": [
       "<div>\n",
       "<style scoped>\n",
       "    .dataframe tbody tr th:only-of-type {\n",
       "        vertical-align: middle;\n",
       "    }\n",
       "\n",
       "    .dataframe tbody tr th {\n",
       "        vertical-align: top;\n",
       "    }\n",
       "\n",
       "    .dataframe thead th {\n",
       "        text-align: right;\n",
       "    }\n",
       "</style>\n",
       "<table border=\"1\" class=\"dataframe\">\n",
       "  <thead>\n",
       "    <tr style=\"text-align: right;\">\n",
       "      <th></th>\n",
       "      <th>Date</th>\n",
       "      <th>Total</th>\n",
       "      <th>cost price</th>\n",
       "      <th>Quantity</th>\n",
       "      <th>gross income</th>\n",
       "    </tr>\n",
       "  </thead>\n",
       "  <tbody>\n",
       "    <tr>\n",
       "      <th>0</th>\n",
       "      <td>2019-01-01</td>\n",
       "      <td>10.68</td>\n",
       "      <td>10.17</td>\n",
       "      <td>112.0</td>\n",
       "      <td>206.86</td>\n",
       "    </tr>\n",
       "    <tr>\n",
       "      <th>1</th>\n",
       "      <td>2019-01-02</td>\n",
       "      <td>12.69</td>\n",
       "      <td>12.09</td>\n",
       "      <td>182.0</td>\n",
       "      <td>155.28</td>\n",
       "    </tr>\n",
       "    <tr>\n",
       "      <th>2</th>\n",
       "      <td>2019-01-03</td>\n",
       "      <td>13.17</td>\n",
       "      <td>12.54</td>\n",
       "      <td>270.0</td>\n",
       "      <td>91.45</td>\n",
       "    </tr>\n",
       "    <tr>\n",
       "      <th>3</th>\n",
       "      <td>2019-01-04</td>\n",
       "      <td>13.42</td>\n",
       "      <td>12.78</td>\n",
       "      <td>436.0</td>\n",
       "      <td>135.12</td>\n",
       "    </tr>\n",
       "    <tr>\n",
       "      <th>4</th>\n",
       "      <td>2019-01-05</td>\n",
       "      <td>14.68</td>\n",
       "      <td>13.98</td>\n",
       "      <td>510.0</td>\n",
       "      <td>190.86</td>\n",
       "    </tr>\n",
       "  </tbody>\n",
       "</table>\n",
       "</div>"
      ],
      "text/plain": [
       "        Date  Total  cost price  Quantity  gross income\n",
       "0 2019-01-01  10.68       10.17     112.0        206.86\n",
       "1 2019-01-02  12.69       12.09     182.0        155.28\n",
       "2 2019-01-03  13.17       12.54     270.0         91.45\n",
       "3 2019-01-04  13.42       12.78     436.0        135.12\n",
       "4 2019-01-05  14.68       13.98     510.0        190.86"
      ]
     },
     "execution_count": 48,
     "metadata": {},
     "output_type": "execute_result"
    }
   ],
   "source": [
    "new_df.head()"
   ]
  },
  {
   "cell_type": "code",
   "execution_count": 49,
   "metadata": {},
   "outputs": [
    {
     "data": {
      "application/vnd.plotly.v1+json": {
       "config": {
        "plotlyServerURL": "https://plot.ly"
       },
       "data": [
        {
         "hovertemplate": "x=%{x}<br>y=%{y}<extra></extra>",
         "legendgroup": "",
         "line": {
          "color": "#636efa",
          "dash": "solid"
         },
         "marker": {
          "symbol": "circle"
         },
         "mode": "lines",
         "name": "",
         "orientation": "v",
         "showlegend": false,
         "type": "scatter",
         "x": [
          "2019-01-01T00:00:00",
          "2019-01-02T00:00:00",
          "2019-01-03T00:00:00",
          "2019-01-04T00:00:00",
          "2019-01-05T00:00:00",
          "2019-01-06T00:00:00",
          "2019-01-07T00:00:00",
          "2019-01-08T00:00:00",
          "2019-01-09T00:00:00",
          "2019-01-10T00:00:00",
          "2019-01-11T00:00:00",
          "2019-01-12T00:00:00",
          "2019-01-13T00:00:00",
          "2019-01-14T00:00:00",
          "2019-01-15T00:00:00",
          "2019-01-16T00:00:00",
          "2019-01-17T00:00:00",
          "2019-01-18T00:00:00",
          "2019-01-19T00:00:00",
          "2019-01-20T00:00:00",
          "2019-01-21T00:00:00",
          "2019-01-22T00:00:00",
          "2019-01-23T00:00:00",
          "2019-01-24T00:00:00",
          "2019-01-25T00:00:00",
          "2019-01-26T00:00:00",
          "2019-01-27T00:00:00",
          "2019-01-28T00:00:00",
          "2019-01-29T00:00:00",
          "2019-01-30T00:00:00",
          "2019-01-31T00:00:00"
         ],
         "xaxis": "x",
         "y": [
          206.86,
          155.28,
          91.45,
          135.12,
          190.85999999999999,
          130.6,
          173.13,
          375.86,
          126.7,
          133.49,
          153.63,
          191.38,
          218.89,
          297.44,
          261.17,
          187.53,
          243.61,
          126.51,
          178.98,
          160.19,
          115.47999999999999,
          89.8,
          237.93,
          204.54,
          225.54,
          263.24,
          151.97,
          196.88,
          150.24,
          106.26,
          269.06
         ],
         "yaxis": "y"
        }
       ],
       "layout": {
        "legend": {
         "tracegroupgap": 0
        },
        "template": {
         "data": {
          "bar": [
           {
            "error_x": {
             "color": "#2a3f5f"
            },
            "error_y": {
             "color": "#2a3f5f"
            },
            "marker": {
             "line": {
              "color": "#E5ECF6",
              "width": 0.5
             },
             "pattern": {
              "fillmode": "overlay",
              "size": 10,
              "solidity": 0.2
             }
            },
            "type": "bar"
           }
          ],
          "barpolar": [
           {
            "marker": {
             "line": {
              "color": "#E5ECF6",
              "width": 0.5
             },
             "pattern": {
              "fillmode": "overlay",
              "size": 10,
              "solidity": 0.2
             }
            },
            "type": "barpolar"
           }
          ],
          "carpet": [
           {
            "aaxis": {
             "endlinecolor": "#2a3f5f",
             "gridcolor": "white",
             "linecolor": "white",
             "minorgridcolor": "white",
             "startlinecolor": "#2a3f5f"
            },
            "baxis": {
             "endlinecolor": "#2a3f5f",
             "gridcolor": "white",
             "linecolor": "white",
             "minorgridcolor": "white",
             "startlinecolor": "#2a3f5f"
            },
            "type": "carpet"
           }
          ],
          "choropleth": [
           {
            "colorbar": {
             "outlinewidth": 0,
             "ticks": ""
            },
            "type": "choropleth"
           }
          ],
          "contour": [
           {
            "colorbar": {
             "outlinewidth": 0,
             "ticks": ""
            },
            "colorscale": [
             [
              0,
              "#0d0887"
             ],
             [
              0.1111111111111111,
              "#46039f"
             ],
             [
              0.2222222222222222,
              "#7201a8"
             ],
             [
              0.3333333333333333,
              "#9c179e"
             ],
             [
              0.4444444444444444,
              "#bd3786"
             ],
             [
              0.5555555555555556,
              "#d8576b"
             ],
             [
              0.6666666666666666,
              "#ed7953"
             ],
             [
              0.7777777777777778,
              "#fb9f3a"
             ],
             [
              0.8888888888888888,
              "#fdca26"
             ],
             [
              1,
              "#f0f921"
             ]
            ],
            "type": "contour"
           }
          ],
          "contourcarpet": [
           {
            "colorbar": {
             "outlinewidth": 0,
             "ticks": ""
            },
            "type": "contourcarpet"
           }
          ],
          "heatmap": [
           {
            "colorbar": {
             "outlinewidth": 0,
             "ticks": ""
            },
            "colorscale": [
             [
              0,
              "#0d0887"
             ],
             [
              0.1111111111111111,
              "#46039f"
             ],
             [
              0.2222222222222222,
              "#7201a8"
             ],
             [
              0.3333333333333333,
              "#9c179e"
             ],
             [
              0.4444444444444444,
              "#bd3786"
             ],
             [
              0.5555555555555556,
              "#d8576b"
             ],
             [
              0.6666666666666666,
              "#ed7953"
             ],
             [
              0.7777777777777778,
              "#fb9f3a"
             ],
             [
              0.8888888888888888,
              "#fdca26"
             ],
             [
              1,
              "#f0f921"
             ]
            ],
            "type": "heatmap"
           }
          ],
          "heatmapgl": [
           {
            "colorbar": {
             "outlinewidth": 0,
             "ticks": ""
            },
            "colorscale": [
             [
              0,
              "#0d0887"
             ],
             [
              0.1111111111111111,
              "#46039f"
             ],
             [
              0.2222222222222222,
              "#7201a8"
             ],
             [
              0.3333333333333333,
              "#9c179e"
             ],
             [
              0.4444444444444444,
              "#bd3786"
             ],
             [
              0.5555555555555556,
              "#d8576b"
             ],
             [
              0.6666666666666666,
              "#ed7953"
             ],
             [
              0.7777777777777778,
              "#fb9f3a"
             ],
             [
              0.8888888888888888,
              "#fdca26"
             ],
             [
              1,
              "#f0f921"
             ]
            ],
            "type": "heatmapgl"
           }
          ],
          "histogram": [
           {
            "marker": {
             "pattern": {
              "fillmode": "overlay",
              "size": 10,
              "solidity": 0.2
             }
            },
            "type": "histogram"
           }
          ],
          "histogram2d": [
           {
            "colorbar": {
             "outlinewidth": 0,
             "ticks": ""
            },
            "colorscale": [
             [
              0,
              "#0d0887"
             ],
             [
              0.1111111111111111,
              "#46039f"
             ],
             [
              0.2222222222222222,
              "#7201a8"
             ],
             [
              0.3333333333333333,
              "#9c179e"
             ],
             [
              0.4444444444444444,
              "#bd3786"
             ],
             [
              0.5555555555555556,
              "#d8576b"
             ],
             [
              0.6666666666666666,
              "#ed7953"
             ],
             [
              0.7777777777777778,
              "#fb9f3a"
             ],
             [
              0.8888888888888888,
              "#fdca26"
             ],
             [
              1,
              "#f0f921"
             ]
            ],
            "type": "histogram2d"
           }
          ],
          "histogram2dcontour": [
           {
            "colorbar": {
             "outlinewidth": 0,
             "ticks": ""
            },
            "colorscale": [
             [
              0,
              "#0d0887"
             ],
             [
              0.1111111111111111,
              "#46039f"
             ],
             [
              0.2222222222222222,
              "#7201a8"
             ],
             [
              0.3333333333333333,
              "#9c179e"
             ],
             [
              0.4444444444444444,
              "#bd3786"
             ],
             [
              0.5555555555555556,
              "#d8576b"
             ],
             [
              0.6666666666666666,
              "#ed7953"
             ],
             [
              0.7777777777777778,
              "#fb9f3a"
             ],
             [
              0.8888888888888888,
              "#fdca26"
             ],
             [
              1,
              "#f0f921"
             ]
            ],
            "type": "histogram2dcontour"
           }
          ],
          "mesh3d": [
           {
            "colorbar": {
             "outlinewidth": 0,
             "ticks": ""
            },
            "type": "mesh3d"
           }
          ],
          "parcoords": [
           {
            "line": {
             "colorbar": {
              "outlinewidth": 0,
              "ticks": ""
             }
            },
            "type": "parcoords"
           }
          ],
          "pie": [
           {
            "automargin": true,
            "type": "pie"
           }
          ],
          "scatter": [
           {
            "fillpattern": {
             "fillmode": "overlay",
             "size": 10,
             "solidity": 0.2
            },
            "type": "scatter"
           }
          ],
          "scatter3d": [
           {
            "line": {
             "colorbar": {
              "outlinewidth": 0,
              "ticks": ""
             }
            },
            "marker": {
             "colorbar": {
              "outlinewidth": 0,
              "ticks": ""
             }
            },
            "type": "scatter3d"
           }
          ],
          "scattercarpet": [
           {
            "marker": {
             "colorbar": {
              "outlinewidth": 0,
              "ticks": ""
             }
            },
            "type": "scattercarpet"
           }
          ],
          "scattergeo": [
           {
            "marker": {
             "colorbar": {
              "outlinewidth": 0,
              "ticks": ""
             }
            },
            "type": "scattergeo"
           }
          ],
          "scattergl": [
           {
            "marker": {
             "colorbar": {
              "outlinewidth": 0,
              "ticks": ""
             }
            },
            "type": "scattergl"
           }
          ],
          "scattermapbox": [
           {
            "marker": {
             "colorbar": {
              "outlinewidth": 0,
              "ticks": ""
             }
            },
            "type": "scattermapbox"
           }
          ],
          "scatterpolar": [
           {
            "marker": {
             "colorbar": {
              "outlinewidth": 0,
              "ticks": ""
             }
            },
            "type": "scatterpolar"
           }
          ],
          "scatterpolargl": [
           {
            "marker": {
             "colorbar": {
              "outlinewidth": 0,
              "ticks": ""
             }
            },
            "type": "scatterpolargl"
           }
          ],
          "scatterternary": [
           {
            "marker": {
             "colorbar": {
              "outlinewidth": 0,
              "ticks": ""
             }
            },
            "type": "scatterternary"
           }
          ],
          "surface": [
           {
            "colorbar": {
             "outlinewidth": 0,
             "ticks": ""
            },
            "colorscale": [
             [
              0,
              "#0d0887"
             ],
             [
              0.1111111111111111,
              "#46039f"
             ],
             [
              0.2222222222222222,
              "#7201a8"
             ],
             [
              0.3333333333333333,
              "#9c179e"
             ],
             [
              0.4444444444444444,
              "#bd3786"
             ],
             [
              0.5555555555555556,
              "#d8576b"
             ],
             [
              0.6666666666666666,
              "#ed7953"
             ],
             [
              0.7777777777777778,
              "#fb9f3a"
             ],
             [
              0.8888888888888888,
              "#fdca26"
             ],
             [
              1,
              "#f0f921"
             ]
            ],
            "type": "surface"
           }
          ],
          "table": [
           {
            "cells": {
             "fill": {
              "color": "#EBF0F8"
             },
             "line": {
              "color": "white"
             }
            },
            "header": {
             "fill": {
              "color": "#C8D4E3"
             },
             "line": {
              "color": "white"
             }
            },
            "type": "table"
           }
          ]
         },
         "layout": {
          "annotationdefaults": {
           "arrowcolor": "#2a3f5f",
           "arrowhead": 0,
           "arrowwidth": 1
          },
          "autotypenumbers": "strict",
          "coloraxis": {
           "colorbar": {
            "outlinewidth": 0,
            "ticks": ""
           }
          },
          "colorscale": {
           "diverging": [
            [
             0,
             "#8e0152"
            ],
            [
             0.1,
             "#c51b7d"
            ],
            [
             0.2,
             "#de77ae"
            ],
            [
             0.3,
             "#f1b6da"
            ],
            [
             0.4,
             "#fde0ef"
            ],
            [
             0.5,
             "#f7f7f7"
            ],
            [
             0.6,
             "#e6f5d0"
            ],
            [
             0.7,
             "#b8e186"
            ],
            [
             0.8,
             "#7fbc41"
            ],
            [
             0.9,
             "#4d9221"
            ],
            [
             1,
             "#276419"
            ]
           ],
           "sequential": [
            [
             0,
             "#0d0887"
            ],
            [
             0.1111111111111111,
             "#46039f"
            ],
            [
             0.2222222222222222,
             "#7201a8"
            ],
            [
             0.3333333333333333,
             "#9c179e"
            ],
            [
             0.4444444444444444,
             "#bd3786"
            ],
            [
             0.5555555555555556,
             "#d8576b"
            ],
            [
             0.6666666666666666,
             "#ed7953"
            ],
            [
             0.7777777777777778,
             "#fb9f3a"
            ],
            [
             0.8888888888888888,
             "#fdca26"
            ],
            [
             1,
             "#f0f921"
            ]
           ],
           "sequentialminus": [
            [
             0,
             "#0d0887"
            ],
            [
             0.1111111111111111,
             "#46039f"
            ],
            [
             0.2222222222222222,
             "#7201a8"
            ],
            [
             0.3333333333333333,
             "#9c179e"
            ],
            [
             0.4444444444444444,
             "#bd3786"
            ],
            [
             0.5555555555555556,
             "#d8576b"
            ],
            [
             0.6666666666666666,
             "#ed7953"
            ],
            [
             0.7777777777777778,
             "#fb9f3a"
            ],
            [
             0.8888888888888888,
             "#fdca26"
            ],
            [
             1,
             "#f0f921"
            ]
           ]
          },
          "colorway": [
           "#636efa",
           "#EF553B",
           "#00cc96",
           "#ab63fa",
           "#FFA15A",
           "#19d3f3",
           "#FF6692",
           "#B6E880",
           "#FF97FF",
           "#FECB52"
          ],
          "font": {
           "color": "#2a3f5f"
          },
          "geo": {
           "bgcolor": "white",
           "lakecolor": "white",
           "landcolor": "#E5ECF6",
           "showlakes": true,
           "showland": true,
           "subunitcolor": "white"
          },
          "hoverlabel": {
           "align": "left"
          },
          "hovermode": "closest",
          "mapbox": {
           "style": "light"
          },
          "paper_bgcolor": "white",
          "plot_bgcolor": "#E5ECF6",
          "polar": {
           "angularaxis": {
            "gridcolor": "white",
            "linecolor": "white",
            "ticks": ""
           },
           "bgcolor": "#E5ECF6",
           "radialaxis": {
            "gridcolor": "white",
            "linecolor": "white",
            "ticks": ""
           }
          },
          "scene": {
           "xaxis": {
            "backgroundcolor": "#E5ECF6",
            "gridcolor": "white",
            "gridwidth": 2,
            "linecolor": "white",
            "showbackground": true,
            "ticks": "",
            "zerolinecolor": "white"
           },
           "yaxis": {
            "backgroundcolor": "#E5ECF6",
            "gridcolor": "white",
            "gridwidth": 2,
            "linecolor": "white",
            "showbackground": true,
            "ticks": "",
            "zerolinecolor": "white"
           },
           "zaxis": {
            "backgroundcolor": "#E5ECF6",
            "gridcolor": "white",
            "gridwidth": 2,
            "linecolor": "white",
            "showbackground": true,
            "ticks": "",
            "zerolinecolor": "white"
           }
          },
          "shapedefaults": {
           "line": {
            "color": "#2a3f5f"
           }
          },
          "ternary": {
           "aaxis": {
            "gridcolor": "white",
            "linecolor": "white",
            "ticks": ""
           },
           "baxis": {
            "gridcolor": "white",
            "linecolor": "white",
            "ticks": ""
           },
           "bgcolor": "#E5ECF6",
           "caxis": {
            "gridcolor": "white",
            "linecolor": "white",
            "ticks": ""
           }
          },
          "title": {
           "x": 0.05
          },
          "xaxis": {
           "automargin": true,
           "gridcolor": "white",
           "linecolor": "white",
           "ticks": "",
           "title": {
            "standoff": 15
           },
           "zerolinecolor": "white",
           "zerolinewidth": 2
          },
          "yaxis": {
           "automargin": true,
           "gridcolor": "white",
           "linecolor": "white",
           "ticks": "",
           "title": {
            "standoff": 15
           },
           "zerolinecolor": "white",
           "zerolinewidth": 2
          }
         }
        },
        "title": {
         "text": "January Seasonality Trend"
        },
        "xaxis": {
         "anchor": "y",
         "domain": [
          0,
          1
         ],
         "title": {
          "text": "Date (Day)"
         }
        },
        "yaxis": {
         "anchor": "x",
         "domain": [
          0,
          1
         ],
         "title": {
          "text": "Gross Income"
         }
        }
       }
      }
     },
     "metadata": {},
     "output_type": "display_data"
    },
    {
     "data": {
      "application/vnd.plotly.v1+json": {
       "config": {
        "plotlyServerURL": "https://plot.ly"
       },
       "data": [
        {
         "hovertemplate": "x=%{x}<br>y=%{y}<extra></extra>",
         "legendgroup": "",
         "line": {
          "color": "#636efa",
          "dash": "solid"
         },
         "marker": {
          "symbol": "circle"
         },
         "mode": "lines",
         "name": "",
         "orientation": "v",
         "showlegend": false,
         "type": "scatter",
         "x": [
          "2019-02-01T00:00:00",
          "2019-02-02T00:00:00",
          "2019-02-03T00:00:00",
          "2019-02-04T00:00:00",
          "2019-02-05T00:00:00",
          "2019-02-06T00:00:00",
          "2019-02-07T00:00:00",
          "2019-02-08T00:00:00",
          "2019-02-09T00:00:00",
          "2019-02-10T00:00:00",
          "2019-02-11T00:00:00",
          "2019-02-12T00:00:00",
          "2019-02-13T00:00:00",
          "2019-02-14T00:00:00",
          "2019-02-15T00:00:00",
          "2019-02-16T00:00:00",
          "2019-02-17T00:00:00",
          "2019-02-18T00:00:00",
          "2019-02-19T00:00:00",
          "2019-02-20T00:00:00",
          "2019-02-21T00:00:00",
          "2019-02-22T00:00:00",
          "2019-02-23T00:00:00",
          "2019-02-24T00:00:00",
          "2019-02-25T00:00:00",
          "2019-02-26T00:00:00",
          "2019-02-27T00:00:00",
          "2019-02-28T00:00:00"
         ],
         "xaxis": "x",
         "y": [
          206.86,
          155.28,
          91.45,
          135.12,
          190.85999999999999,
          130.6,
          173.13,
          375.86,
          126.7,
          133.49,
          153.63,
          191.38,
          218.89,
          297.44,
          261.17,
          187.53,
          243.61,
          126.51,
          178.98,
          160.19,
          115.47999999999999,
          89.8,
          237.93,
          204.54,
          225.54,
          263.24,
          151.97,
          196.88
         ],
         "yaxis": "y"
        }
       ],
       "layout": {
        "legend": {
         "tracegroupgap": 0
        },
        "template": {
         "data": {
          "bar": [
           {
            "error_x": {
             "color": "#2a3f5f"
            },
            "error_y": {
             "color": "#2a3f5f"
            },
            "marker": {
             "line": {
              "color": "#E5ECF6",
              "width": 0.5
             },
             "pattern": {
              "fillmode": "overlay",
              "size": 10,
              "solidity": 0.2
             }
            },
            "type": "bar"
           }
          ],
          "barpolar": [
           {
            "marker": {
             "line": {
              "color": "#E5ECF6",
              "width": 0.5
             },
             "pattern": {
              "fillmode": "overlay",
              "size": 10,
              "solidity": 0.2
             }
            },
            "type": "barpolar"
           }
          ],
          "carpet": [
           {
            "aaxis": {
             "endlinecolor": "#2a3f5f",
             "gridcolor": "white",
             "linecolor": "white",
             "minorgridcolor": "white",
             "startlinecolor": "#2a3f5f"
            },
            "baxis": {
             "endlinecolor": "#2a3f5f",
             "gridcolor": "white",
             "linecolor": "white",
             "minorgridcolor": "white",
             "startlinecolor": "#2a3f5f"
            },
            "type": "carpet"
           }
          ],
          "choropleth": [
           {
            "colorbar": {
             "outlinewidth": 0,
             "ticks": ""
            },
            "type": "choropleth"
           }
          ],
          "contour": [
           {
            "colorbar": {
             "outlinewidth": 0,
             "ticks": ""
            },
            "colorscale": [
             [
              0,
              "#0d0887"
             ],
             [
              0.1111111111111111,
              "#46039f"
             ],
             [
              0.2222222222222222,
              "#7201a8"
             ],
             [
              0.3333333333333333,
              "#9c179e"
             ],
             [
              0.4444444444444444,
              "#bd3786"
             ],
             [
              0.5555555555555556,
              "#d8576b"
             ],
             [
              0.6666666666666666,
              "#ed7953"
             ],
             [
              0.7777777777777778,
              "#fb9f3a"
             ],
             [
              0.8888888888888888,
              "#fdca26"
             ],
             [
              1,
              "#f0f921"
             ]
            ],
            "type": "contour"
           }
          ],
          "contourcarpet": [
           {
            "colorbar": {
             "outlinewidth": 0,
             "ticks": ""
            },
            "type": "contourcarpet"
           }
          ],
          "heatmap": [
           {
            "colorbar": {
             "outlinewidth": 0,
             "ticks": ""
            },
            "colorscale": [
             [
              0,
              "#0d0887"
             ],
             [
              0.1111111111111111,
              "#46039f"
             ],
             [
              0.2222222222222222,
              "#7201a8"
             ],
             [
              0.3333333333333333,
              "#9c179e"
             ],
             [
              0.4444444444444444,
              "#bd3786"
             ],
             [
              0.5555555555555556,
              "#d8576b"
             ],
             [
              0.6666666666666666,
              "#ed7953"
             ],
             [
              0.7777777777777778,
              "#fb9f3a"
             ],
             [
              0.8888888888888888,
              "#fdca26"
             ],
             [
              1,
              "#f0f921"
             ]
            ],
            "type": "heatmap"
           }
          ],
          "heatmapgl": [
           {
            "colorbar": {
             "outlinewidth": 0,
             "ticks": ""
            },
            "colorscale": [
             [
              0,
              "#0d0887"
             ],
             [
              0.1111111111111111,
              "#46039f"
             ],
             [
              0.2222222222222222,
              "#7201a8"
             ],
             [
              0.3333333333333333,
              "#9c179e"
             ],
             [
              0.4444444444444444,
              "#bd3786"
             ],
             [
              0.5555555555555556,
              "#d8576b"
             ],
             [
              0.6666666666666666,
              "#ed7953"
             ],
             [
              0.7777777777777778,
              "#fb9f3a"
             ],
             [
              0.8888888888888888,
              "#fdca26"
             ],
             [
              1,
              "#f0f921"
             ]
            ],
            "type": "heatmapgl"
           }
          ],
          "histogram": [
           {
            "marker": {
             "pattern": {
              "fillmode": "overlay",
              "size": 10,
              "solidity": 0.2
             }
            },
            "type": "histogram"
           }
          ],
          "histogram2d": [
           {
            "colorbar": {
             "outlinewidth": 0,
             "ticks": ""
            },
            "colorscale": [
             [
              0,
              "#0d0887"
             ],
             [
              0.1111111111111111,
              "#46039f"
             ],
             [
              0.2222222222222222,
              "#7201a8"
             ],
             [
              0.3333333333333333,
              "#9c179e"
             ],
             [
              0.4444444444444444,
              "#bd3786"
             ],
             [
              0.5555555555555556,
              "#d8576b"
             ],
             [
              0.6666666666666666,
              "#ed7953"
             ],
             [
              0.7777777777777778,
              "#fb9f3a"
             ],
             [
              0.8888888888888888,
              "#fdca26"
             ],
             [
              1,
              "#f0f921"
             ]
            ],
            "type": "histogram2d"
           }
          ],
          "histogram2dcontour": [
           {
            "colorbar": {
             "outlinewidth": 0,
             "ticks": ""
            },
            "colorscale": [
             [
              0,
              "#0d0887"
             ],
             [
              0.1111111111111111,
              "#46039f"
             ],
             [
              0.2222222222222222,
              "#7201a8"
             ],
             [
              0.3333333333333333,
              "#9c179e"
             ],
             [
              0.4444444444444444,
              "#bd3786"
             ],
             [
              0.5555555555555556,
              "#d8576b"
             ],
             [
              0.6666666666666666,
              "#ed7953"
             ],
             [
              0.7777777777777778,
              "#fb9f3a"
             ],
             [
              0.8888888888888888,
              "#fdca26"
             ],
             [
              1,
              "#f0f921"
             ]
            ],
            "type": "histogram2dcontour"
           }
          ],
          "mesh3d": [
           {
            "colorbar": {
             "outlinewidth": 0,
             "ticks": ""
            },
            "type": "mesh3d"
           }
          ],
          "parcoords": [
           {
            "line": {
             "colorbar": {
              "outlinewidth": 0,
              "ticks": ""
             }
            },
            "type": "parcoords"
           }
          ],
          "pie": [
           {
            "automargin": true,
            "type": "pie"
           }
          ],
          "scatter": [
           {
            "fillpattern": {
             "fillmode": "overlay",
             "size": 10,
             "solidity": 0.2
            },
            "type": "scatter"
           }
          ],
          "scatter3d": [
           {
            "line": {
             "colorbar": {
              "outlinewidth": 0,
              "ticks": ""
             }
            },
            "marker": {
             "colorbar": {
              "outlinewidth": 0,
              "ticks": ""
             }
            },
            "type": "scatter3d"
           }
          ],
          "scattercarpet": [
           {
            "marker": {
             "colorbar": {
              "outlinewidth": 0,
              "ticks": ""
             }
            },
            "type": "scattercarpet"
           }
          ],
          "scattergeo": [
           {
            "marker": {
             "colorbar": {
              "outlinewidth": 0,
              "ticks": ""
             }
            },
            "type": "scattergeo"
           }
          ],
          "scattergl": [
           {
            "marker": {
             "colorbar": {
              "outlinewidth": 0,
              "ticks": ""
             }
            },
            "type": "scattergl"
           }
          ],
          "scattermapbox": [
           {
            "marker": {
             "colorbar": {
              "outlinewidth": 0,
              "ticks": ""
             }
            },
            "type": "scattermapbox"
           }
          ],
          "scatterpolar": [
           {
            "marker": {
             "colorbar": {
              "outlinewidth": 0,
              "ticks": ""
             }
            },
            "type": "scatterpolar"
           }
          ],
          "scatterpolargl": [
           {
            "marker": {
             "colorbar": {
              "outlinewidth": 0,
              "ticks": ""
             }
            },
            "type": "scatterpolargl"
           }
          ],
          "scatterternary": [
           {
            "marker": {
             "colorbar": {
              "outlinewidth": 0,
              "ticks": ""
             }
            },
            "type": "scatterternary"
           }
          ],
          "surface": [
           {
            "colorbar": {
             "outlinewidth": 0,
             "ticks": ""
            },
            "colorscale": [
             [
              0,
              "#0d0887"
             ],
             [
              0.1111111111111111,
              "#46039f"
             ],
             [
              0.2222222222222222,
              "#7201a8"
             ],
             [
              0.3333333333333333,
              "#9c179e"
             ],
             [
              0.4444444444444444,
              "#bd3786"
             ],
             [
              0.5555555555555556,
              "#d8576b"
             ],
             [
              0.6666666666666666,
              "#ed7953"
             ],
             [
              0.7777777777777778,
              "#fb9f3a"
             ],
             [
              0.8888888888888888,
              "#fdca26"
             ],
             [
              1,
              "#f0f921"
             ]
            ],
            "type": "surface"
           }
          ],
          "table": [
           {
            "cells": {
             "fill": {
              "color": "#EBF0F8"
             },
             "line": {
              "color": "white"
             }
            },
            "header": {
             "fill": {
              "color": "#C8D4E3"
             },
             "line": {
              "color": "white"
             }
            },
            "type": "table"
           }
          ]
         },
         "layout": {
          "annotationdefaults": {
           "arrowcolor": "#2a3f5f",
           "arrowhead": 0,
           "arrowwidth": 1
          },
          "autotypenumbers": "strict",
          "coloraxis": {
           "colorbar": {
            "outlinewidth": 0,
            "ticks": ""
           }
          },
          "colorscale": {
           "diverging": [
            [
             0,
             "#8e0152"
            ],
            [
             0.1,
             "#c51b7d"
            ],
            [
             0.2,
             "#de77ae"
            ],
            [
             0.3,
             "#f1b6da"
            ],
            [
             0.4,
             "#fde0ef"
            ],
            [
             0.5,
             "#f7f7f7"
            ],
            [
             0.6,
             "#e6f5d0"
            ],
            [
             0.7,
             "#b8e186"
            ],
            [
             0.8,
             "#7fbc41"
            ],
            [
             0.9,
             "#4d9221"
            ],
            [
             1,
             "#276419"
            ]
           ],
           "sequential": [
            [
             0,
             "#0d0887"
            ],
            [
             0.1111111111111111,
             "#46039f"
            ],
            [
             0.2222222222222222,
             "#7201a8"
            ],
            [
             0.3333333333333333,
             "#9c179e"
            ],
            [
             0.4444444444444444,
             "#bd3786"
            ],
            [
             0.5555555555555556,
             "#d8576b"
            ],
            [
             0.6666666666666666,
             "#ed7953"
            ],
            [
             0.7777777777777778,
             "#fb9f3a"
            ],
            [
             0.8888888888888888,
             "#fdca26"
            ],
            [
             1,
             "#f0f921"
            ]
           ],
           "sequentialminus": [
            [
             0,
             "#0d0887"
            ],
            [
             0.1111111111111111,
             "#46039f"
            ],
            [
             0.2222222222222222,
             "#7201a8"
            ],
            [
             0.3333333333333333,
             "#9c179e"
            ],
            [
             0.4444444444444444,
             "#bd3786"
            ],
            [
             0.5555555555555556,
             "#d8576b"
            ],
            [
             0.6666666666666666,
             "#ed7953"
            ],
            [
             0.7777777777777778,
             "#fb9f3a"
            ],
            [
             0.8888888888888888,
             "#fdca26"
            ],
            [
             1,
             "#f0f921"
            ]
           ]
          },
          "colorway": [
           "#636efa",
           "#EF553B",
           "#00cc96",
           "#ab63fa",
           "#FFA15A",
           "#19d3f3",
           "#FF6692",
           "#B6E880",
           "#FF97FF",
           "#FECB52"
          ],
          "font": {
           "color": "#2a3f5f"
          },
          "geo": {
           "bgcolor": "white",
           "lakecolor": "white",
           "landcolor": "#E5ECF6",
           "showlakes": true,
           "showland": true,
           "subunitcolor": "white"
          },
          "hoverlabel": {
           "align": "left"
          },
          "hovermode": "closest",
          "mapbox": {
           "style": "light"
          },
          "paper_bgcolor": "white",
          "plot_bgcolor": "#E5ECF6",
          "polar": {
           "angularaxis": {
            "gridcolor": "white",
            "linecolor": "white",
            "ticks": ""
           },
           "bgcolor": "#E5ECF6",
           "radialaxis": {
            "gridcolor": "white",
            "linecolor": "white",
            "ticks": ""
           }
          },
          "scene": {
           "xaxis": {
            "backgroundcolor": "#E5ECF6",
            "gridcolor": "white",
            "gridwidth": 2,
            "linecolor": "white",
            "showbackground": true,
            "ticks": "",
            "zerolinecolor": "white"
           },
           "yaxis": {
            "backgroundcolor": "#E5ECF6",
            "gridcolor": "white",
            "gridwidth": 2,
            "linecolor": "white",
            "showbackground": true,
            "ticks": "",
            "zerolinecolor": "white"
           },
           "zaxis": {
            "backgroundcolor": "#E5ECF6",
            "gridcolor": "white",
            "gridwidth": 2,
            "linecolor": "white",
            "showbackground": true,
            "ticks": "",
            "zerolinecolor": "white"
           }
          },
          "shapedefaults": {
           "line": {
            "color": "#2a3f5f"
           }
          },
          "ternary": {
           "aaxis": {
            "gridcolor": "white",
            "linecolor": "white",
            "ticks": ""
           },
           "baxis": {
            "gridcolor": "white",
            "linecolor": "white",
            "ticks": ""
           },
           "bgcolor": "#E5ECF6",
           "caxis": {
            "gridcolor": "white",
            "linecolor": "white",
            "ticks": ""
           }
          },
          "title": {
           "x": 0.05
          },
          "xaxis": {
           "automargin": true,
           "gridcolor": "white",
           "linecolor": "white",
           "ticks": "",
           "title": {
            "standoff": 15
           },
           "zerolinecolor": "white",
           "zerolinewidth": 2
          },
          "yaxis": {
           "automargin": true,
           "gridcolor": "white",
           "linecolor": "white",
           "ticks": "",
           "title": {
            "standoff": 15
           },
           "zerolinecolor": "white",
           "zerolinewidth": 2
          }
         }
        },
        "title": {
         "text": "February Seasonality Trend"
        },
        "xaxis": {
         "anchor": "y",
         "domain": [
          0,
          1
         ],
         "title": {
          "text": "Date (Day)"
         }
        },
        "yaxis": {
         "anchor": "x",
         "domain": [
          0,
          1
         ],
         "title": {
          "text": "Gross Income"
         }
        }
       }
      }
     },
     "metadata": {},
     "output_type": "display_data"
    },
    {
     "data": {
      "application/vnd.plotly.v1+json": {
       "config": {
        "plotlyServerURL": "https://plot.ly"
       },
       "data": [
        {
         "hovertemplate": "x=%{x}<br>y=%{y}<extra></extra>",
         "legendgroup": "",
         "line": {
          "color": "#636efa",
          "dash": "solid"
         },
         "marker": {
          "symbol": "circle"
         },
         "mode": "lines",
         "name": "",
         "orientation": "v",
         "showlegend": false,
         "type": "scatter",
         "x": [
          "2019-03-01T00:00:00",
          "2019-03-02T00:00:00",
          "2019-03-03T00:00:00",
          "2019-03-04T00:00:00",
          "2019-03-05T00:00:00",
          "2019-03-06T00:00:00",
          "2019-03-07T00:00:00",
          "2019-03-08T00:00:00",
          "2019-03-09T00:00:00",
          "2019-03-10T00:00:00",
          "2019-03-11T00:00:00",
          "2019-03-12T00:00:00",
          "2019-03-13T00:00:00",
          "2019-03-14T00:00:00",
          "2019-03-15T00:00:00",
          "2019-03-16T00:00:00",
          "2019-03-17T00:00:00",
          "2019-03-18T00:00:00",
          "2019-03-19T00:00:00",
          "2019-03-20T00:00:00",
          "2019-03-21T00:00:00",
          "2019-03-22T00:00:00",
          "2019-03-23T00:00:00",
          "2019-03-24T00:00:00",
          "2019-03-25T00:00:00",
          "2019-03-26T00:00:00",
          "2019-03-27T00:00:00",
          "2019-03-28T00:00:00",
          "2019-03-29T00:00:00",
          "2019-03-30T00:00:00"
         ],
         "xaxis": "x",
         "y": [
          26.14,
          3.82,
          16.22,
          23.29,
          30.21,
          29.89,
          20.65,
          36.78,
          3.63,
          8.23,
          2.9,
          5.1,
          11.74,
          21.59,
          35.69,
          28.12,
          24.13,
          21.78,
          8.2,
          4.03,
          21.51,
          13.2,
          3.32,
          8.64,
          13.29,
          21.04,
          1.68,
          8.77,
          22.09,
          11.2
         ],
         "yaxis": "y"
        }
       ],
       "layout": {
        "legend": {
         "tracegroupgap": 0
        },
        "template": {
         "data": {
          "bar": [
           {
            "error_x": {
             "color": "#2a3f5f"
            },
            "error_y": {
             "color": "#2a3f5f"
            },
            "marker": {
             "line": {
              "color": "#E5ECF6",
              "width": 0.5
             },
             "pattern": {
              "fillmode": "overlay",
              "size": 10,
              "solidity": 0.2
             }
            },
            "type": "bar"
           }
          ],
          "barpolar": [
           {
            "marker": {
             "line": {
              "color": "#E5ECF6",
              "width": 0.5
             },
             "pattern": {
              "fillmode": "overlay",
              "size": 10,
              "solidity": 0.2
             }
            },
            "type": "barpolar"
           }
          ],
          "carpet": [
           {
            "aaxis": {
             "endlinecolor": "#2a3f5f",
             "gridcolor": "white",
             "linecolor": "white",
             "minorgridcolor": "white",
             "startlinecolor": "#2a3f5f"
            },
            "baxis": {
             "endlinecolor": "#2a3f5f",
             "gridcolor": "white",
             "linecolor": "white",
             "minorgridcolor": "white",
             "startlinecolor": "#2a3f5f"
            },
            "type": "carpet"
           }
          ],
          "choropleth": [
           {
            "colorbar": {
             "outlinewidth": 0,
             "ticks": ""
            },
            "type": "choropleth"
           }
          ],
          "contour": [
           {
            "colorbar": {
             "outlinewidth": 0,
             "ticks": ""
            },
            "colorscale": [
             [
              0,
              "#0d0887"
             ],
             [
              0.1111111111111111,
              "#46039f"
             ],
             [
              0.2222222222222222,
              "#7201a8"
             ],
             [
              0.3333333333333333,
              "#9c179e"
             ],
             [
              0.4444444444444444,
              "#bd3786"
             ],
             [
              0.5555555555555556,
              "#d8576b"
             ],
             [
              0.6666666666666666,
              "#ed7953"
             ],
             [
              0.7777777777777778,
              "#fb9f3a"
             ],
             [
              0.8888888888888888,
              "#fdca26"
             ],
             [
              1,
              "#f0f921"
             ]
            ],
            "type": "contour"
           }
          ],
          "contourcarpet": [
           {
            "colorbar": {
             "outlinewidth": 0,
             "ticks": ""
            },
            "type": "contourcarpet"
           }
          ],
          "heatmap": [
           {
            "colorbar": {
             "outlinewidth": 0,
             "ticks": ""
            },
            "colorscale": [
             [
              0,
              "#0d0887"
             ],
             [
              0.1111111111111111,
              "#46039f"
             ],
             [
              0.2222222222222222,
              "#7201a8"
             ],
             [
              0.3333333333333333,
              "#9c179e"
             ],
             [
              0.4444444444444444,
              "#bd3786"
             ],
             [
              0.5555555555555556,
              "#d8576b"
             ],
             [
              0.6666666666666666,
              "#ed7953"
             ],
             [
              0.7777777777777778,
              "#fb9f3a"
             ],
             [
              0.8888888888888888,
              "#fdca26"
             ],
             [
              1,
              "#f0f921"
             ]
            ],
            "type": "heatmap"
           }
          ],
          "heatmapgl": [
           {
            "colorbar": {
             "outlinewidth": 0,
             "ticks": ""
            },
            "colorscale": [
             [
              0,
              "#0d0887"
             ],
             [
              0.1111111111111111,
              "#46039f"
             ],
             [
              0.2222222222222222,
              "#7201a8"
             ],
             [
              0.3333333333333333,
              "#9c179e"
             ],
             [
              0.4444444444444444,
              "#bd3786"
             ],
             [
              0.5555555555555556,
              "#d8576b"
             ],
             [
              0.6666666666666666,
              "#ed7953"
             ],
             [
              0.7777777777777778,
              "#fb9f3a"
             ],
             [
              0.8888888888888888,
              "#fdca26"
             ],
             [
              1,
              "#f0f921"
             ]
            ],
            "type": "heatmapgl"
           }
          ],
          "histogram": [
           {
            "marker": {
             "pattern": {
              "fillmode": "overlay",
              "size": 10,
              "solidity": 0.2
             }
            },
            "type": "histogram"
           }
          ],
          "histogram2d": [
           {
            "colorbar": {
             "outlinewidth": 0,
             "ticks": ""
            },
            "colorscale": [
             [
              0,
              "#0d0887"
             ],
             [
              0.1111111111111111,
              "#46039f"
             ],
             [
              0.2222222222222222,
              "#7201a8"
             ],
             [
              0.3333333333333333,
              "#9c179e"
             ],
             [
              0.4444444444444444,
              "#bd3786"
             ],
             [
              0.5555555555555556,
              "#d8576b"
             ],
             [
              0.6666666666666666,
              "#ed7953"
             ],
             [
              0.7777777777777778,
              "#fb9f3a"
             ],
             [
              0.8888888888888888,
              "#fdca26"
             ],
             [
              1,
              "#f0f921"
             ]
            ],
            "type": "histogram2d"
           }
          ],
          "histogram2dcontour": [
           {
            "colorbar": {
             "outlinewidth": 0,
             "ticks": ""
            },
            "colorscale": [
             [
              0,
              "#0d0887"
             ],
             [
              0.1111111111111111,
              "#46039f"
             ],
             [
              0.2222222222222222,
              "#7201a8"
             ],
             [
              0.3333333333333333,
              "#9c179e"
             ],
             [
              0.4444444444444444,
              "#bd3786"
             ],
             [
              0.5555555555555556,
              "#d8576b"
             ],
             [
              0.6666666666666666,
              "#ed7953"
             ],
             [
              0.7777777777777778,
              "#fb9f3a"
             ],
             [
              0.8888888888888888,
              "#fdca26"
             ],
             [
              1,
              "#f0f921"
             ]
            ],
            "type": "histogram2dcontour"
           }
          ],
          "mesh3d": [
           {
            "colorbar": {
             "outlinewidth": 0,
             "ticks": ""
            },
            "type": "mesh3d"
           }
          ],
          "parcoords": [
           {
            "line": {
             "colorbar": {
              "outlinewidth": 0,
              "ticks": ""
             }
            },
            "type": "parcoords"
           }
          ],
          "pie": [
           {
            "automargin": true,
            "type": "pie"
           }
          ],
          "scatter": [
           {
            "fillpattern": {
             "fillmode": "overlay",
             "size": 10,
             "solidity": 0.2
            },
            "type": "scatter"
           }
          ],
          "scatter3d": [
           {
            "line": {
             "colorbar": {
              "outlinewidth": 0,
              "ticks": ""
             }
            },
            "marker": {
             "colorbar": {
              "outlinewidth": 0,
              "ticks": ""
             }
            },
            "type": "scatter3d"
           }
          ],
          "scattercarpet": [
           {
            "marker": {
             "colorbar": {
              "outlinewidth": 0,
              "ticks": ""
             }
            },
            "type": "scattercarpet"
           }
          ],
          "scattergeo": [
           {
            "marker": {
             "colorbar": {
              "outlinewidth": 0,
              "ticks": ""
             }
            },
            "type": "scattergeo"
           }
          ],
          "scattergl": [
           {
            "marker": {
             "colorbar": {
              "outlinewidth": 0,
              "ticks": ""
             }
            },
            "type": "scattergl"
           }
          ],
          "scattermapbox": [
           {
            "marker": {
             "colorbar": {
              "outlinewidth": 0,
              "ticks": ""
             }
            },
            "type": "scattermapbox"
           }
          ],
          "scatterpolar": [
           {
            "marker": {
             "colorbar": {
              "outlinewidth": 0,
              "ticks": ""
             }
            },
            "type": "scatterpolar"
           }
          ],
          "scatterpolargl": [
           {
            "marker": {
             "colorbar": {
              "outlinewidth": 0,
              "ticks": ""
             }
            },
            "type": "scatterpolargl"
           }
          ],
          "scatterternary": [
           {
            "marker": {
             "colorbar": {
              "outlinewidth": 0,
              "ticks": ""
             }
            },
            "type": "scatterternary"
           }
          ],
          "surface": [
           {
            "colorbar": {
             "outlinewidth": 0,
             "ticks": ""
            },
            "colorscale": [
             [
              0,
              "#0d0887"
             ],
             [
              0.1111111111111111,
              "#46039f"
             ],
             [
              0.2222222222222222,
              "#7201a8"
             ],
             [
              0.3333333333333333,
              "#9c179e"
             ],
             [
              0.4444444444444444,
              "#bd3786"
             ],
             [
              0.5555555555555556,
              "#d8576b"
             ],
             [
              0.6666666666666666,
              "#ed7953"
             ],
             [
              0.7777777777777778,
              "#fb9f3a"
             ],
             [
              0.8888888888888888,
              "#fdca26"
             ],
             [
              1,
              "#f0f921"
             ]
            ],
            "type": "surface"
           }
          ],
          "table": [
           {
            "cells": {
             "fill": {
              "color": "#EBF0F8"
             },
             "line": {
              "color": "white"
             }
            },
            "header": {
             "fill": {
              "color": "#C8D4E3"
             },
             "line": {
              "color": "white"
             }
            },
            "type": "table"
           }
          ]
         },
         "layout": {
          "annotationdefaults": {
           "arrowcolor": "#2a3f5f",
           "arrowhead": 0,
           "arrowwidth": 1
          },
          "autotypenumbers": "strict",
          "coloraxis": {
           "colorbar": {
            "outlinewidth": 0,
            "ticks": ""
           }
          },
          "colorscale": {
           "diverging": [
            [
             0,
             "#8e0152"
            ],
            [
             0.1,
             "#c51b7d"
            ],
            [
             0.2,
             "#de77ae"
            ],
            [
             0.3,
             "#f1b6da"
            ],
            [
             0.4,
             "#fde0ef"
            ],
            [
             0.5,
             "#f7f7f7"
            ],
            [
             0.6,
             "#e6f5d0"
            ],
            [
             0.7,
             "#b8e186"
            ],
            [
             0.8,
             "#7fbc41"
            ],
            [
             0.9,
             "#4d9221"
            ],
            [
             1,
             "#276419"
            ]
           ],
           "sequential": [
            [
             0,
             "#0d0887"
            ],
            [
             0.1111111111111111,
             "#46039f"
            ],
            [
             0.2222222222222222,
             "#7201a8"
            ],
            [
             0.3333333333333333,
             "#9c179e"
            ],
            [
             0.4444444444444444,
             "#bd3786"
            ],
            [
             0.5555555555555556,
             "#d8576b"
            ],
            [
             0.6666666666666666,
             "#ed7953"
            ],
            [
             0.7777777777777778,
             "#fb9f3a"
            ],
            [
             0.8888888888888888,
             "#fdca26"
            ],
            [
             1,
             "#f0f921"
            ]
           ],
           "sequentialminus": [
            [
             0,
             "#0d0887"
            ],
            [
             0.1111111111111111,
             "#46039f"
            ],
            [
             0.2222222222222222,
             "#7201a8"
            ],
            [
             0.3333333333333333,
             "#9c179e"
            ],
            [
             0.4444444444444444,
             "#bd3786"
            ],
            [
             0.5555555555555556,
             "#d8576b"
            ],
            [
             0.6666666666666666,
             "#ed7953"
            ],
            [
             0.7777777777777778,
             "#fb9f3a"
            ],
            [
             0.8888888888888888,
             "#fdca26"
            ],
            [
             1,
             "#f0f921"
            ]
           ]
          },
          "colorway": [
           "#636efa",
           "#EF553B",
           "#00cc96",
           "#ab63fa",
           "#FFA15A",
           "#19d3f3",
           "#FF6692",
           "#B6E880",
           "#FF97FF",
           "#FECB52"
          ],
          "font": {
           "color": "#2a3f5f"
          },
          "geo": {
           "bgcolor": "white",
           "lakecolor": "white",
           "landcolor": "#E5ECF6",
           "showlakes": true,
           "showland": true,
           "subunitcolor": "white"
          },
          "hoverlabel": {
           "align": "left"
          },
          "hovermode": "closest",
          "mapbox": {
           "style": "light"
          },
          "paper_bgcolor": "white",
          "plot_bgcolor": "#E5ECF6",
          "polar": {
           "angularaxis": {
            "gridcolor": "white",
            "linecolor": "white",
            "ticks": ""
           },
           "bgcolor": "#E5ECF6",
           "radialaxis": {
            "gridcolor": "white",
            "linecolor": "white",
            "ticks": ""
           }
          },
          "scene": {
           "xaxis": {
            "backgroundcolor": "#E5ECF6",
            "gridcolor": "white",
            "gridwidth": 2,
            "linecolor": "white",
            "showbackground": true,
            "ticks": "",
            "zerolinecolor": "white"
           },
           "yaxis": {
            "backgroundcolor": "#E5ECF6",
            "gridcolor": "white",
            "gridwidth": 2,
            "linecolor": "white",
            "showbackground": true,
            "ticks": "",
            "zerolinecolor": "white"
           },
           "zaxis": {
            "backgroundcolor": "#E5ECF6",
            "gridcolor": "white",
            "gridwidth": 2,
            "linecolor": "white",
            "showbackground": true,
            "ticks": "",
            "zerolinecolor": "white"
           }
          },
          "shapedefaults": {
           "line": {
            "color": "#2a3f5f"
           }
          },
          "ternary": {
           "aaxis": {
            "gridcolor": "white",
            "linecolor": "white",
            "ticks": ""
           },
           "baxis": {
            "gridcolor": "white",
            "linecolor": "white",
            "ticks": ""
           },
           "bgcolor": "#E5ECF6",
           "caxis": {
            "gridcolor": "white",
            "linecolor": "white",
            "ticks": ""
           }
          },
          "title": {
           "x": 0.05
          },
          "xaxis": {
           "automargin": true,
           "gridcolor": "white",
           "linecolor": "white",
           "ticks": "",
           "title": {
            "standoff": 15
           },
           "zerolinecolor": "white",
           "zerolinewidth": 2
          },
          "yaxis": {
           "automargin": true,
           "gridcolor": "white",
           "linecolor": "white",
           "ticks": "",
           "title": {
            "standoff": 15
           },
           "zerolinecolor": "white",
           "zerolinewidth": 2
          }
         }
        },
        "title": {
         "text": "March Seasonality Trend"
        },
        "xaxis": {
         "anchor": "y",
         "domain": [
          0,
          1
         ],
         "title": {
          "text": "Date (Day)"
         }
        },
        "yaxis": {
         "anchor": "x",
         "domain": [
          0,
          1
         ],
         "title": {
          "text": "Gross Income"
         }
        }
       }
      }
     },
     "metadata": {},
     "output_type": "display_data"
    }
   ],
   "source": [
    "# Plot Monthly Sales Trends\n",
    "\n",
    "# January Seasonality Trend\n",
    "jan_sales_trends_fig = px.line(new_df, x=new_df[\"Date\"][:31], y=new_df[\"gross income\"][:31], title=\"January Seasonality Trend\")\n",
    "jan_sales_trends_fig.update_layout(\n",
    "    xaxis_title = \"Date (Day)\",\n",
    "    yaxis_title = \"Gross Income\"\n",
    ")\n",
    "jan_sales_trends_fig.show()\n",
    "\n",
    "# Febraury Seasonality Trend\n",
    "feb = new_df[new_df[\"Date\"].dt.month == 2]\n",
    "feb_sales_trends_fig = px.line(new_df, x=feb[\"Date\"], y=new_df[\"gross income\"][:len(feb)], title=\"February Seasonality Trend\")\n",
    "feb_sales_trends_fig.update_layout(\n",
    "    xaxis_title = \"Date (Day)\",\n",
    "    yaxis_title = \"Gross Income\"\n",
    ")\n",
    "feb_sales_trends_fig.show()\n",
    "\n",
    "# March Seasonality Trend\n",
    "mar = new_df[new_df[\"Date\"].dt.month == 3]\n",
    "mar_sales_trends_fig = px.line(new_df, x=mar[\"Date\"], y=df[\"gross income\"][:len(mar)], title=\"March Seasonality Trend\")\n",
    "mar_sales_trends_fig.update_layout(\n",
    "    xaxis_title = \"Date (Day)\",\n",
    "    yaxis_title = \"Gross Income\"\n",
    ")\n",
    "mar_sales_trends_fig.show()"
   ]
  },
  {
   "cell_type": "code",
   "execution_count": 51,
   "metadata": {},
   "outputs": [
    {
     "data": {
      "application/vnd.plotly.v1+json": {
       "config": {
        "plotlyServerURL": "https://plot.ly"
       },
       "data": [
        {
         "alignmentgroup": "True",
         "hovertemplate": "City=%{x}<br>gross income=%{y}<extra></extra>",
         "legendgroup": "",
         "marker": {
          "color": "#636efa",
          "pattern": {
           "shape": ""
          }
         },
         "name": "",
         "offsetgroup": "",
         "orientation": "v",
         "showlegend": false,
         "textposition": "auto",
         "type": "bar",
         "x": [
          "Yangon",
          "Naypyitaw",
          "Yangon",
          "Yangon",
          "Yangon",
          "Naypyitaw",
          "Yangon",
          "Naypyitaw",
          "Yangon",
          "Mandalay",
          "Mandalay",
          "Mandalay",
          "Yangon",
          "Yangon",
          "Yangon",
          "Mandalay",
          "Yangon",
          "Yangon",
          "Yangon",
          "Mandalay",
          "Naypyitaw",
          "Mandalay",
          "Mandalay",
          "Yangon",
          "Yangon",
          "Yangon",
          "Mandalay",
          "Yangon",
          "Mandalay",
          "Yangon",
          "Mandalay",
          "Mandalay",
          "Mandalay",
          "Yangon",
          "Naypyitaw",
          "Naypyitaw",
          "Yangon",
          "Yangon",
          "Naypyitaw",
          "Mandalay",
          "Mandalay",
          "Naypyitaw",
          "Mandalay",
          "Naypyitaw",
          "Naypyitaw",
          "Mandalay",
          "Mandalay",
          "Mandalay",
          "Mandalay",
          "Naypyitaw",
          "Naypyitaw",
          "Yangon",
          "Mandalay",
          "Naypyitaw",
          "Mandalay",
          "Naypyitaw",
          "Yangon",
          "Yangon",
          "Yangon",
          "Naypyitaw",
          "Naypyitaw",
          "Naypyitaw",
          "Mandalay",
          "Yangon",
          "Mandalay",
          "Yangon",
          "Naypyitaw",
          "Mandalay",
          "Yangon",
          "Yangon",
          "Naypyitaw",
          "Naypyitaw",
          "Mandalay",
          "Naypyitaw",
          "Yangon",
          "Naypyitaw",
          "Naypyitaw",
          "Yangon",
          "Naypyitaw",
          "Naypyitaw",
          "Naypyitaw",
          "Mandalay",
          "Naypyitaw",
          "Naypyitaw",
          "Naypyitaw",
          "Naypyitaw",
          "Naypyitaw",
          "Yangon",
          "Yangon",
          "Mandalay",
          "Naypyitaw",
          "Naypyitaw",
          "Yangon",
          "Mandalay",
          "Naypyitaw",
          "Yangon",
          "Mandalay",
          "Naypyitaw",
          "Yangon",
          "Mandalay",
          "Naypyitaw",
          "Naypyitaw",
          "Naypyitaw",
          "Yangon",
          "Mandalay",
          "Yangon",
          "Naypyitaw",
          "Yangon",
          "Naypyitaw",
          "Naypyitaw",
          "Mandalay",
          "Naypyitaw",
          "Mandalay",
          "Yangon",
          "Naypyitaw",
          "Naypyitaw",
          "Mandalay",
          "Mandalay",
          "Yangon",
          "Mandalay",
          "Yangon",
          "Naypyitaw",
          "Mandalay",
          "Naypyitaw",
          "Mandalay",
          "Yangon",
          "Yangon",
          "Naypyitaw",
          "Naypyitaw",
          "Mandalay",
          "Mandalay",
          "Yangon",
          "Mandalay",
          "Mandalay",
          "Naypyitaw",
          "Naypyitaw",
          "Yangon",
          "Yangon",
          "Mandalay",
          "Yangon",
          "Naypyitaw",
          "Naypyitaw",
          "Naypyitaw",
          "Naypyitaw",
          "Yangon",
          "Naypyitaw",
          "Yangon",
          "Naypyitaw",
          "Mandalay",
          "Yangon",
          "Mandalay",
          "Naypyitaw",
          "Yangon",
          "Naypyitaw",
          "Naypyitaw",
          "Yangon",
          "Mandalay",
          "Mandalay",
          "Mandalay",
          "Mandalay",
          "Naypyitaw",
          "Yangon",
          "Yangon",
          "Naypyitaw",
          "Mandalay",
          "Mandalay",
          "Naypyitaw",
          "Yangon",
          "Yangon",
          "Yangon",
          "Yangon",
          "Mandalay",
          "Naypyitaw",
          "Mandalay",
          "Mandalay",
          "Yangon",
          "Yangon",
          "Naypyitaw",
          "Yangon",
          "Naypyitaw",
          "Naypyitaw",
          "Naypyitaw",
          "Yangon",
          "Naypyitaw",
          "Yangon",
          "Mandalay",
          "Mandalay",
          "Mandalay",
          "Yangon",
          "Naypyitaw",
          "Mandalay",
          "Mandalay",
          "Naypyitaw",
          "Mandalay",
          "Yangon",
          "Naypyitaw",
          "Naypyitaw",
          "Yangon",
          "Naypyitaw",
          "Naypyitaw",
          "Naypyitaw",
          "Mandalay",
          "Naypyitaw",
          "Mandalay",
          "Mandalay",
          "Yangon",
          "Naypyitaw",
          "Naypyitaw",
          "Mandalay",
          "Mandalay",
          "Yangon",
          "Naypyitaw",
          "Mandalay",
          "Mandalay",
          "Mandalay",
          "Yangon",
          "Mandalay",
          "Yangon",
          "Mandalay",
          "Mandalay",
          "Mandalay",
          "Mandalay",
          "Naypyitaw",
          "Naypyitaw",
          "Yangon",
          "Naypyitaw",
          "Mandalay",
          "Naypyitaw",
          "Mandalay",
          "Yangon",
          "Mandalay",
          "Mandalay",
          "Mandalay",
          "Mandalay",
          "Yangon",
          "Yangon",
          "Naypyitaw",
          "Naypyitaw",
          "Mandalay",
          "Yangon",
          "Yangon",
          "Yangon",
          "Naypyitaw",
          "Yangon",
          "Mandalay",
          "Yangon",
          "Mandalay",
          "Yangon",
          "Yangon",
          "Mandalay",
          "Mandalay",
          "Naypyitaw",
          "Naypyitaw",
          "Yangon",
          "Yangon",
          "Mandalay",
          "Yangon",
          "Yangon",
          "Yangon",
          "Naypyitaw",
          "Yangon",
          "Naypyitaw",
          "Mandalay",
          "Yangon",
          "Mandalay",
          "Yangon",
          "Naypyitaw",
          "Mandalay",
          "Yangon",
          "Yangon",
          "Mandalay",
          "Naypyitaw",
          "Yangon",
          "Yangon",
          "Mandalay",
          "Mandalay",
          "Naypyitaw",
          "Naypyitaw",
          "Naypyitaw",
          "Yangon",
          "Yangon",
          "Naypyitaw",
          "Yangon",
          "Yangon",
          "Yangon",
          "Mandalay",
          "Naypyitaw",
          "Naypyitaw",
          "Mandalay",
          "Yangon",
          "Mandalay",
          "Naypyitaw",
          "Yangon",
          "Yangon",
          "Mandalay",
          "Naypyitaw",
          "Naypyitaw",
          "Yangon",
          "Yangon",
          "Naypyitaw",
          "Naypyitaw",
          "Mandalay",
          "Naypyitaw",
          "Yangon",
          "Mandalay",
          "Yangon",
          "Yangon",
          "Yangon",
          "Yangon",
          "Yangon",
          "Mandalay",
          "Naypyitaw",
          "Yangon",
          "Yangon",
          "Naypyitaw",
          "Naypyitaw",
          "Naypyitaw",
          "Naypyitaw",
          "Naypyitaw",
          "Naypyitaw",
          "Naypyitaw",
          "Naypyitaw",
          "Yangon",
          "Yangon",
          "Yangon",
          "Mandalay",
          "Yangon",
          "Naypyitaw",
          "Mandalay",
          "Yangon",
          "Mandalay",
          "Yangon",
          "Yangon",
          "Yangon",
          "Naypyitaw",
          "Yangon",
          "Yangon",
          "Mandalay",
          "Naypyitaw",
          "Mandalay",
          "Mandalay",
          "Mandalay",
          "Mandalay",
          "Naypyitaw",
          "Yangon",
          "Yangon",
          "Yangon",
          "Naypyitaw",
          "Yangon",
          "Mandalay",
          "Naypyitaw",
          "Yangon",
          "Mandalay",
          "Mandalay",
          "Naypyitaw",
          "Mandalay",
          "Naypyitaw",
          "Naypyitaw",
          "Mandalay",
          "Mandalay",
          "Yangon",
          "Naypyitaw",
          "Naypyitaw",
          "Yangon",
          "Naypyitaw",
          "Naypyitaw",
          "Naypyitaw",
          "Yangon",
          "Naypyitaw",
          "Yangon",
          "Mandalay",
          "Mandalay",
          "Naypyitaw",
          "Naypyitaw",
          "Yangon",
          "Yangon",
          "Mandalay",
          "Naypyitaw",
          "Naypyitaw",
          "Mandalay",
          "Yangon",
          "Naypyitaw",
          "Mandalay",
          "Naypyitaw",
          "Yangon",
          "Mandalay",
          "Naypyitaw",
          "Yangon",
          "Naypyitaw",
          "Mandalay",
          "Naypyitaw",
          "Mandalay",
          "Yangon",
          "Yangon",
          "Yangon",
          "Yangon",
          "Yangon",
          "Mandalay",
          "Mandalay",
          "Mandalay",
          "Naypyitaw",
          "Naypyitaw",
          "Naypyitaw",
          "Mandalay",
          "Naypyitaw",
          "Yangon",
          "Yangon",
          "Mandalay",
          "Yangon",
          "Naypyitaw",
          "Mandalay",
          "Mandalay",
          "Yangon",
          "Yangon",
          "Yangon",
          "Mandalay",
          "Naypyitaw",
          "Naypyitaw",
          "Mandalay",
          "Yangon",
          "Naypyitaw",
          "Naypyitaw",
          "Naypyitaw",
          "Mandalay",
          "Naypyitaw",
          "Mandalay",
          "Yangon",
          "Mandalay",
          "Mandalay",
          "Yangon",
          "Mandalay",
          "Naypyitaw",
          "Yangon",
          "Mandalay",
          "Mandalay",
          "Naypyitaw",
          "Naypyitaw",
          "Yangon",
          "Naypyitaw",
          "Naypyitaw",
          "Naypyitaw",
          "Mandalay",
          "Yangon",
          "Naypyitaw",
          "Yangon",
          "Mandalay",
          "Naypyitaw",
          "Naypyitaw",
          "Mandalay",
          "Mandalay",
          "Mandalay",
          "Mandalay",
          "Yangon",
          "Yangon",
          "Yangon",
          "Mandalay",
          "Mandalay",
          "Mandalay",
          "Naypyitaw",
          "Naypyitaw",
          "Naypyitaw",
          "Mandalay",
          "Naypyitaw",
          "Naypyitaw",
          "Yangon",
          "Naypyitaw",
          "Naypyitaw",
          "Mandalay",
          "Naypyitaw",
          "Naypyitaw",
          "Naypyitaw",
          "Yangon",
          "Yangon",
          "Mandalay",
          "Yangon",
          "Yangon",
          "Yangon",
          "Naypyitaw",
          "Mandalay",
          "Yangon",
          "Naypyitaw",
          "Naypyitaw",
          "Yangon",
          "Mandalay",
          "Naypyitaw",
          "Mandalay",
          "Mandalay",
          "Yangon",
          "Naypyitaw",
          "Mandalay",
          "Mandalay",
          "Yangon",
          "Mandalay",
          "Naypyitaw",
          "Mandalay",
          "Mandalay",
          "Naypyitaw",
          "Naypyitaw",
          "Mandalay",
          "Yangon",
          "Mandalay",
          "Naypyitaw",
          "Naypyitaw",
          "Mandalay",
          "Mandalay",
          "Yangon",
          "Mandalay",
          "Mandalay",
          "Mandalay",
          "Naypyitaw",
          "Mandalay",
          "Yangon",
          "Yangon",
          "Yangon",
          "Naypyitaw",
          "Naypyitaw",
          "Mandalay",
          "Naypyitaw",
          "Yangon",
          "Naypyitaw",
          "Mandalay",
          "Naypyitaw",
          "Yangon",
          "Naypyitaw",
          "Yangon",
          "Yangon",
          "Mandalay",
          "Mandalay",
          "Mandalay",
          "Yangon",
          "Yangon",
          "Yangon",
          "Mandalay",
          "Naypyitaw",
          "Yangon",
          "Naypyitaw",
          "Mandalay",
          "Yangon",
          "Yangon",
          "Naypyitaw",
          "Yangon",
          "Naypyitaw",
          "Mandalay",
          "Naypyitaw",
          "Mandalay",
          "Mandalay",
          "Yangon",
          "Yangon",
          "Mandalay",
          "Yangon",
          "Mandalay",
          "Mandalay",
          "Mandalay",
          "Naypyitaw",
          "Yangon",
          "Mandalay",
          "Mandalay",
          "Naypyitaw",
          "Yangon",
          "Yangon",
          "Mandalay",
          "Naypyitaw",
          "Mandalay",
          "Yangon",
          "Mandalay",
          "Yangon",
          "Naypyitaw",
          "Yangon",
          "Mandalay",
          "Naypyitaw",
          "Mandalay",
          "Mandalay",
          "Yangon",
          "Mandalay",
          "Yangon",
          "Mandalay",
          "Mandalay",
          "Naypyitaw",
          "Yangon",
          "Mandalay",
          "Naypyitaw",
          "Yangon",
          "Naypyitaw",
          "Mandalay",
          "Mandalay",
          "Yangon",
          "Yangon",
          "Yangon",
          "Naypyitaw",
          "Yangon",
          "Naypyitaw",
          "Naypyitaw",
          "Yangon",
          "Yangon",
          "Mandalay",
          "Mandalay",
          "Yangon",
          "Naypyitaw",
          "Naypyitaw",
          "Yangon",
          "Naypyitaw",
          "Naypyitaw",
          "Naypyitaw",
          "Mandalay",
          "Naypyitaw",
          "Mandalay",
          "Yangon",
          "Naypyitaw",
          "Yangon",
          "Mandalay",
          "Yangon",
          "Naypyitaw",
          "Mandalay",
          "Naypyitaw",
          "Yangon",
          "Yangon",
          "Mandalay",
          "Naypyitaw",
          "Yangon",
          "Naypyitaw",
          "Yangon",
          "Yangon",
          "Mandalay",
          "Mandalay",
          "Mandalay",
          "Mandalay",
          "Yangon",
          "Mandalay",
          "Yangon",
          "Yangon",
          "Yangon",
          "Yangon",
          "Yangon",
          "Mandalay",
          "Mandalay",
          "Mandalay",
          "Yangon",
          "Naypyitaw",
          "Mandalay",
          "Mandalay",
          "Mandalay",
          "Naypyitaw",
          "Mandalay",
          "Naypyitaw",
          "Naypyitaw",
          "Yangon",
          "Naypyitaw",
          "Mandalay",
          "Naypyitaw",
          "Naypyitaw",
          "Mandalay",
          "Mandalay",
          "Yangon",
          "Mandalay",
          "Mandalay",
          "Yangon",
          "Naypyitaw",
          "Yangon",
          "Yangon",
          "Yangon",
          "Mandalay",
          "Naypyitaw",
          "Mandalay",
          "Naypyitaw",
          "Naypyitaw",
          "Yangon",
          "Mandalay",
          "Mandalay",
          "Naypyitaw",
          "Mandalay",
          "Yangon",
          "Mandalay",
          "Mandalay",
          "Naypyitaw",
          "Yangon",
          "Mandalay",
          "Mandalay",
          "Yangon",
          "Naypyitaw",
          "Yangon",
          "Mandalay",
          "Mandalay",
          "Naypyitaw",
          "Yangon",
          "Mandalay",
          "Mandalay",
          "Mandalay",
          "Yangon",
          "Naypyitaw",
          "Yangon",
          "Naypyitaw",
          "Naypyitaw",
          "Yangon",
          "Naypyitaw",
          "Naypyitaw",
          "Yangon",
          "Yangon",
          "Mandalay",
          "Yangon",
          "Naypyitaw",
          "Naypyitaw",
          "Mandalay",
          "Mandalay",
          "Mandalay",
          "Mandalay",
          "Mandalay",
          "Mandalay",
          "Naypyitaw",
          "Naypyitaw",
          "Yangon",
          "Yangon",
          "Naypyitaw",
          "Naypyitaw",
          "Naypyitaw",
          "Naypyitaw",
          "Yangon",
          "Yangon",
          "Yangon",
          "Yangon",
          "Mandalay",
          "Mandalay",
          "Naypyitaw",
          "Mandalay",
          "Naypyitaw",
          "Mandalay",
          "Naypyitaw",
          "Naypyitaw",
          "Mandalay",
          "Naypyitaw",
          "Mandalay",
          "Yangon",
          "Yangon",
          "Yangon",
          "Mandalay",
          "Mandalay",
          "Naypyitaw",
          "Naypyitaw",
          "Naypyitaw",
          "Mandalay",
          "Yangon",
          "Naypyitaw",
          "Naypyitaw",
          "Yangon",
          "Yangon",
          "Naypyitaw",
          "Naypyitaw",
          "Mandalay",
          "Naypyitaw",
          "Mandalay",
          "Naypyitaw",
          "Mandalay",
          "Yangon",
          "Yangon",
          "Mandalay",
          "Naypyitaw",
          "Yangon",
          "Mandalay",
          "Yangon",
          "Yangon",
          "Yangon",
          "Mandalay",
          "Mandalay",
          "Yangon",
          "Yangon",
          "Yangon",
          "Mandalay",
          "Naypyitaw",
          "Mandalay",
          "Mandalay",
          "Yangon",
          "Mandalay",
          "Naypyitaw",
          "Naypyitaw",
          "Naypyitaw",
          "Naypyitaw",
          "Mandalay",
          "Naypyitaw",
          "Mandalay",
          "Naypyitaw",
          "Mandalay",
          "Naypyitaw",
          "Yangon",
          "Yangon",
          "Naypyitaw",
          "Naypyitaw",
          "Yangon",
          "Naypyitaw",
          "Naypyitaw",
          "Naypyitaw",
          "Yangon",
          "Yangon",
          "Naypyitaw",
          "Mandalay",
          "Yangon",
          "Yangon",
          "Mandalay",
          "Naypyitaw",
          "Yangon",
          "Mandalay",
          "Naypyitaw",
          "Mandalay",
          "Naypyitaw",
          "Naypyitaw",
          "Yangon",
          "Mandalay",
          "Yangon",
          "Yangon",
          "Yangon",
          "Mandalay",
          "Naypyitaw",
          "Mandalay",
          "Yangon",
          "Naypyitaw",
          "Yangon",
          "Yangon",
          "Mandalay",
          "Naypyitaw",
          "Yangon",
          "Mandalay",
          "Mandalay",
          "Mandalay",
          "Yangon",
          "Naypyitaw",
          "Yangon",
          "Mandalay",
          "Yangon",
          "Mandalay",
          "Yangon",
          "Naypyitaw",
          "Yangon",
          "Yangon",
          "Mandalay",
          "Mandalay",
          "Yangon",
          "Mandalay",
          "Yangon",
          "Yangon",
          "Mandalay",
          "Naypyitaw",
          "Naypyitaw",
          "Yangon",
          "Mandalay",
          "Yangon",
          "Naypyitaw",
          "Yangon",
          "Yangon",
          "Yangon",
          "Naypyitaw",
          "Naypyitaw",
          "Yangon",
          "Yangon",
          "Yangon",
          "Naypyitaw",
          "Mandalay",
          "Yangon",
          "Mandalay",
          "Mandalay",
          "Yangon",
          "Mandalay",
          "Yangon",
          "Naypyitaw",
          "Yangon",
          "Mandalay",
          "Mandalay",
          "Yangon",
          "Naypyitaw",
          "Mandalay",
          "Naypyitaw",
          "Naypyitaw",
          "Yangon",
          "Yangon",
          "Naypyitaw",
          "Mandalay",
          "Yangon",
          "Yangon",
          "Naypyitaw",
          "Naypyitaw",
          "Mandalay",
          "Yangon",
          "Mandalay",
          "Mandalay",
          "Naypyitaw",
          "Mandalay",
          "Yangon",
          "Yangon",
          "Yangon",
          "Yangon",
          "Yangon",
          "Naypyitaw",
          "Yangon",
          "Naypyitaw",
          "Mandalay",
          "Naypyitaw",
          "Mandalay",
          "Mandalay",
          "Mandalay",
          "Naypyitaw",
          "Naypyitaw",
          "Naypyitaw",
          "Yangon",
          "Naypyitaw",
          "Mandalay",
          "Yangon",
          "Yangon",
          "Naypyitaw",
          "Naypyitaw",
          "Naypyitaw",
          "Mandalay",
          "Yangon",
          "Mandalay",
          "Mandalay",
          "Naypyitaw",
          "Yangon",
          "Yangon",
          "Yangon",
          "Naypyitaw",
          "Naypyitaw",
          "Yangon",
          "Mandalay",
          "Mandalay",
          "Naypyitaw",
          "Mandalay",
          "Naypyitaw",
          "Naypyitaw",
          "Naypyitaw",
          "Mandalay",
          "Mandalay",
          "Yangon",
          "Mandalay",
          "Mandalay",
          "Mandalay",
          "Naypyitaw",
          "Yangon",
          "Naypyitaw",
          "Mandalay",
          "Naypyitaw",
          "Naypyitaw",
          "Yangon",
          "Yangon",
          "Naypyitaw",
          "Yangon",
          "Naypyitaw",
          "Yangon",
          "Yangon",
          "Yangon",
          "Yangon",
          "Naypyitaw",
          "Mandalay",
          "Naypyitaw",
          "Mandalay",
          "Mandalay",
          "Mandalay",
          "Mandalay",
          "Naypyitaw",
          "Mandalay",
          "Yangon",
          "Naypyitaw",
          "Mandalay",
          "Naypyitaw",
          "Yangon",
          "Naypyitaw",
          "Yangon",
          "Yangon",
          "Naypyitaw",
          "Mandalay",
          "Mandalay",
          "Yangon",
          "Yangon",
          "Yangon",
          "Mandalay",
          "Mandalay",
          "Mandalay",
          "Mandalay",
          "Yangon",
          "Naypyitaw",
          "Mandalay",
          "Yangon",
          "Mandalay",
          "Mandalay",
          "Mandalay",
          "Naypyitaw",
          "Yangon",
          "Yangon",
          "Naypyitaw",
          "Naypyitaw",
          "Mandalay",
          "Mandalay",
          "Mandalay",
          "Naypyitaw",
          "Mandalay",
          "Yangon",
          "Mandalay",
          "Yangon",
          "Mandalay",
          "Naypyitaw",
          "Naypyitaw",
          "Mandalay",
          "Yangon",
          "Yangon",
          "Yangon"
         ],
         "xaxis": "x",
         "y": [
          26.14,
          3.82,
          16.22,
          23.29,
          30.21,
          29.89,
          20.65,
          36.78,
          3.63,
          8.23,
          2.9,
          5.1,
          11.74,
          21.59,
          35.69,
          28.12,
          24.13,
          21.78,
          8.2,
          4.03,
          21.51,
          13.2,
          3.32,
          8.64,
          13.29,
          21.04,
          1.68,
          8.77,
          22.09,
          11.2,
          23.53,
          35.13,
          33.51,
          9.66,
          19.88,
          3.41,
          15.65,
          27.4,
          21.97,
          12.05,
          4.34,
          5.61,
          20.74,
          39.48,
          1.54,
          18.79,
          25.51,
          9,
          5.68,
          41.31,
          31.99,
          11.15,
          3.57,
          0.77,
          1.62,
          34.39,
          4.43,
          35.84,
          36.17,
          9.18,
          3.71,
          16.72,
          24.78,
          7.91,
          15.15,
          7.93,
          3.35,
          29.28,
          39.38,
          0.92,
          44.74,
          31.06,
          7.28,
          22.77,
          33.6,
          20.82,
          22.07,
          9,
          39.16,
          5.09,
          29.76,
          14.5,
          7.7,
          16.07,
          12.23,
          29.07,
          19.13,
          17.28,
          2.12,
          23.1,
          9.48,
          22.43,
          7.69,
          28.96,
          4.49,
          4.86,
          43.94,
          3.73,
          7.91,
          24.81,
          2.44,
          35.35,
          10.38,
          17.48,
          10.62,
          44.34,
          8.21,
          18.64,
          15.29,
          40.98,
          1.65,
          14.73,
          25.49,
          26.13,
          36.36,
          4.05,
          5.49,
          2.57,
          5.48,
          5.34,
          39.82,
          19.99,
          44.98,
          25.56,
          22.59,
          32.79,
          8.06,
          14.28,
          27.42,
          40.63,
          13.87,
          27.64,
          6.97,
          26.23,
          24.39,
          13.53,
          6.58,
          10.33,
          25.95,
          29,
          44.9,
          45.25,
          34.3,
          1.52,
          23.39,
          13.88,
          15.07,
          13.23,
          28.74,
          12.98,
          18.31,
          12.1,
          37.46,
          4.94,
          32.39,
          23.07,
          3.61,
          12.57,
          43.75,
          28.02,
          17.27,
          3.18,
          16.03,
          7.64,
          19.95,
          17.03,
          47.79,
          49.49,
          15.38,
          24.33,
          17.5,
          20.01,
          8.34,
          15.87,
          7.92,
          15.23,
          8.87,
          7.88,
          22.16,
          13.02,
          22.49,
          15.39,
          7.75,
          13.72,
          4.32,
          2.71,
          37.8,
          9.29,
          3.7,
          13.96,
          11.56,
          7.35,
          39.51,
          5.11,
          8.18,
          3.71,
          4.37,
          1.26,
          8.3,
          17.85,
          5.75,
          11.5,
          21.49,
          12.95,
          4.44,
          10.36,
          29.99,
          14.27,
          4.56,
          44.88,
          11.8,
          41.97,
          23.09,
          6.96,
          10.36,
          0.91,
          6.19,
          14.2,
          37.95,
          8.6,
          13.61,
          21.73,
          2.95,
          0.63,
          4.33,
          8.72,
          31.22,
          7.41,
          27.21,
          25.37,
          8.14,
          1.59,
          37.84,
          14.76,
          25.97,
          9.31,
          4.35,
          11.05,
          3.31,
          4.48,
          11.22,
          5.98,
          9.32,
          12.53,
          37.55,
          19.04,
          12.21,
          4.49,
          15.54,
          25.57,
          20.95,
          17.59,
          1.44,
          4.75,
          23.56,
          6.52,
          3.32,
          7.77,
          6.45,
          13.19,
          33.78,
          3.29,
          7.66,
          11.12,
          2.72,
          34.44,
          7.09,
          37.3,
          14.15,
          17.77,
          16.86,
          2.11,
          9.69,
          1.2,
          29.91,
          16.79,
          10.91,
          19.08,
          35.49,
          22.01,
          27.98,
          1.85,
          0.77,
          29.95,
          9.53,
          16.67,
          3.74,
          10.69,
          16.98,
          33.21,
          20.15,
          9.75,
          3.12,
          3.64,
          9.05,
          12.98,
          5.77,
          23.51,
          12,
          4.43,
          9.98,
          1.95,
          2.43,
          10.24,
          5.98,
          25.27,
          14.08,
          35.52,
          3.97,
          8.19,
          23.98,
          6.93,
          3.56,
          7,
          39.06,
          9.94,
          3.16,
          18.7,
          10.38,
          8.81,
          10.32,
          1.97,
          4.58,
          15.44,
          6.46,
          19.55,
          24.95,
          18.85,
          10.23,
          7.27,
          9.91,
          4.93,
          19.25,
          2.35,
          3.67,
          7.11,
          34.38,
          17.39,
          7.15,
          19.27,
          7.21,
          19.59,
          26.91,
          24.26,
          6.7,
          35.07,
          3.6,
          35.7,
          9.11,
          6.75,
          49.65,
          18.09,
          19.16,
          12.15,
          1.51,
          17.83,
          18.77,
          47.72,
          4.12,
          3.75,
          32.38,
          37.79,
          9.98,
          21.97,
          8.25,
          16.34,
          23.09,
          13.19,
          7.18,
          9.68,
          9.19,
          6.1,
          21.03,
          12.62,
          16.77,
          24.18,
          15.92,
          33.42,
          19.4,
          4.73,
          16.47,
          2.66,
          24.92,
          14.98,
          10.23,
          3.79,
          14.03,
          16.16,
          24.33,
          6.38,
          12.07,
          18.98,
          3.84,
          26.13,
          3.99,
          19.38,
          13.57,
          6.12,
          12.32,
          8.66,
          11.83,
          9.24,
          0.7,
          9.94,
          34.23,
          13.45,
          3.45,
          13.74,
          11.31,
          5.96,
          17.11,
          2.19,
          5.24,
          3.88,
          20.37,
          4.81,
          9.08,
          4.08,
          5.72,
          8.83,
          5.79,
          12.61,
          48.6,
          10.17,
          0.81,
          18.27,
          18.61,
          3.13,
          16.82,
          45.33,
          6.91,
          4.33,
          7.04,
          33.44,
          2.37,
          44.66,
          16.59,
          10.2,
          3.41,
          16.34,
          4.36,
          35.37,
          40.14,
          0.64,
          6.68,
          0.96,
          13.83,
          6.86,
          1.35,
          1.96,
          22.41,
          6.6,
          15.9,
          1.25,
          4.15,
          7.39,
          34.83,
          39.7,
          23.29,
          1.79,
          10.13,
          36.52,
          14.79,
          1.13,
          12.84,
          27.27,
          13,
          11.11,
          1.08,
          4.94,
          25.13,
          8.01,
          21.57,
          29.03,
          16.11,
          9.78,
          8.31,
          16.81,
          17.18,
          1.93,
          26.39,
          16.4,
          9.29,
          30.19,
          18.49,
          9.9,
          20.55,
          7.43,
          1.15,
          34.96,
          3.47,
          9.83,
          10.13,
          6.06,
          9.99,
          30.37,
          6.32,
          27.07,
          4.91,
          20.61,
          3.7,
          1.59,
          6.94,
          9.33,
          4.42,
          9.67,
          7.28,
          25.21,
          15.32,
          4.79,
          31.76,
          10.73,
          19,
          34.84,
          20.44,
          2.57,
          13.71,
          9.85,
          3.47,
          17.98,
          6.86,
          24.95,
          11.23,
          6.29,
          24.51,
          22.85,
          7.84,
          5.99,
          27.18,
          44.14,
          7.63,
          34.67,
          11.47,
          7.34,
          7.08,
          5.83,
          3.7,
          4.9,
          14.61,
          26.24,
          4.6,
          3.79,
          4.04,
          5.63,
          3.56,
          7.76,
          14.71,
          27.43,
          12.88,
          19.82,
          8.59,
          24.44,
          26.21,
          6.66,
          6.76,
          5.62,
          7.2,
          49.26,
          12.5,
          10.86,
          9.71,
          44.6,
          16.97,
          22.35,
          9.93,
          40.6,
          24.66,
          29.58,
          27.95,
          25.89,
          20.51,
          13.34,
          3.55,
          7.24,
          21.48,
          28.46,
          12.06,
          6.35,
          12.85,
          6.95,
          4.08,
          15.54,
          9.3,
          3.62,
          9.46,
          10.34,
          7.85,
          10.77,
          29.8,
          3.65,
          13.96,
          8.48,
          2.28,
          11.28,
          14.52,
          2.22,
          7.83,
          21,
          9.21,
          7.03,
          4.15,
          3.25,
          38.78,
          16.35,
          18.16,
          6.35,
          18.78,
          9.96,
          1.53,
          5.79,
          1.45,
          44.54,
          13.98,
          4.05,
          33.73,
          17.42,
          21.78,
          21.98,
          29.56,
          13.04,
          10.75,
          4.58,
          33.11,
          41.62,
          4.57,
          7.89,
          6.09,
          41.29,
          8,
          0.6,
          32.09,
          11.75,
          8.38,
          14.96,
          11.99,
          33.23,
          10.13,
          2.31,
          4.41,
          7.86,
          14.82,
          35.42,
          5.57,
          29.01,
          3.01,
          8.71,
          21.06,
          1.68,
          1.55,
          12.37,
          18.91,
          16.74,
          36.39,
          16.79,
          12.04,
          2.35,
          4.98,
          13.22,
          6.98,
          2.77,
          6.45,
          6,
          17.62,
          43.55,
          9.88,
          9.73,
          8.66,
          3.59,
          14.31,
          4.06,
          28.02,
          9.34,
          11.01,
          13.46,
          22.74,
          8.38,
          22.43,
          14.69,
          29.48,
          14.55,
          1.97,
          1.74,
          14.8,
          2.15,
          6.92,
          4.91,
          6.48,
          31.78,
          7.29,
          10.06,
          31.59,
          19.26,
          24.32,
          25.68,
          23.67,
          21.84,
          5.41,
          12.44,
          31.31,
          48.75,
          24.16,
          4.85,
          9.88,
          36.21,
          39.78,
          25.12,
          8.6,
          3.45,
          6.25,
          3.85,
          24.19,
          15.11,
          34.93,
          6.23,
          39.48,
          8.92,
          25.01,
          1.79,
          6.81,
          5.24,
          8.95,
          40.78,
          6.62,
          12.87,
          4.67,
          11.4,
          8.34,
          34.87,
          19.45,
          18.26,
          4.46,
          8.4,
          0.98,
          26.56,
          2.69,
          40.98,
          28.42,
          29.38,
          36.62,
          42.28,
          19.46,
          4.24,
          7.16,
          3.77,
          12.67,
          1.92,
          32.62,
          2.63,
          5.53,
          28.43,
          4.46,
          6.82,
          8.71,
          18.32,
          12.73,
          38.92,
          14.3,
          28.96,
          9.43,
          11.08,
          38.6,
          36.06,
          25.55,
          2.67,
          11.1,
          38.18,
          11.41,
          4.11,
          19.13,
          3.43,
          19.11,
          30.05,
          23.8,
          2.62,
          6.57,
          7.21,
          22.86,
          4.67,
          6.31,
          39.54,
          8.72,
          18.95,
          1.53,
          17.6,
          2.54,
          26.1,
          28.76,
          2.75,
          9.07,
          20.62,
          2.32,
          13.71,
          48.69,
          32.41,
          4.66,
          2.72,
          3.04,
          12.24,
          4.64,
          21.67,
          6.9,
          12.08,
          23.59,
          22.03,
          34.02,
          15.49,
          9.32,
          10.05,
          0.89,
          31.09,
          4.3,
          20.13,
          16.24,
          4.76,
          19.45,
          21.28,
          15.9,
          13.55,
          19.23,
          11.79,
          10.58,
          4.77,
          0.51,
          10.31,
          21.03,
          4.4,
          32.45,
          6.19,
          32.48,
          37.11,
          4.22,
          12.51,
          4.74,
          4.57,
          14.26,
          2.62,
          9.63,
          13.39,
          27.93,
          8.77,
          7.79,
          3.02,
          3.95,
          1.49,
          1.07,
          14.07,
          3.66,
          1.12,
          32.8,
          29.73,
          3.71,
          9.85,
          18.62,
          26.39,
          23.99,
          16.43,
          8.45,
          5.66,
          17.28,
          21.43,
          4.31,
          1.28,
          5.08,
          17.87,
          11.94,
          5.07,
          36.21,
          6.28,
          3.65,
          12.92,
          8.69,
          2.83,
          10.71,
          26.72,
          4.66,
          26.1,
          2.62,
          1.99,
          36.01,
          4.84,
          16.61,
          4.07,
          15.99,
          10.33,
          8.33,
          15.95,
          4.39,
          36.73,
          4.88,
          38.46,
          20.91,
          23.16,
          23.12,
          7.09,
          15.13,
          39.66,
          21.26,
          14.18,
          29.96,
          15.77,
          20.18,
          9.19,
          6.93,
          4.04,
          5.83,
          15.68,
          42.3,
          20.72,
          7.95,
          24.5,
          4.37,
          11.23,
          37.25,
          20.54,
          14.94,
          10.65,
          2.14,
          18.93,
          10.35,
          3.94,
          16.11,
          4.91,
          1.27,
          29.1,
          10.57,
          2.76,
          4.42,
          17.83,
          39.71,
          2.53,
          29.98,
          8.34,
          37.22,
          22.43,
          18.95,
          12.86,
          27.61,
          22.37,
          13.81,
          17.19,
          13.3,
          44.92,
          22.84,
          12.7,
          3.53,
          32.86,
          8.43,
          2.69,
          8.95,
          10.57,
          5.99,
          3.29,
          12.57,
          4.21,
          19.77,
          14.9,
          22.72,
          13.81,
          7.9,
          44.4,
          4.6,
          2.09,
          0.78,
          14.52,
          3.33,
          3.83,
          14.98,
          12.15,
          2.37,
          8.62,
          42.31,
          12.92,
          30.48,
          12.01,
          8.61,
          4.99,
          14.93,
          7.98,
          1.27,
          3.39,
          11.92,
          11.63,
          43.87,
          34.99,
          33.73,
          15.93,
          1.48,
          24.8,
          41.17,
          30.15,
          14.14,
          38.3,
          5.8,
          8.74,
          3.05,
          2.02,
          48.69,
          1.59,
          3.29,
          30.92
         ],
         "yaxis": "y"
        }
       ],
       "layout": {
        "barmode": "relative",
        "legend": {
         "tracegroupgap": 0
        },
        "template": {
         "data": {
          "bar": [
           {
            "error_x": {
             "color": "#2a3f5f"
            },
            "error_y": {
             "color": "#2a3f5f"
            },
            "marker": {
             "line": {
              "color": "#E5ECF6",
              "width": 0.5
             },
             "pattern": {
              "fillmode": "overlay",
              "size": 10,
              "solidity": 0.2
             }
            },
            "type": "bar"
           }
          ],
          "barpolar": [
           {
            "marker": {
             "line": {
              "color": "#E5ECF6",
              "width": 0.5
             },
             "pattern": {
              "fillmode": "overlay",
              "size": 10,
              "solidity": 0.2
             }
            },
            "type": "barpolar"
           }
          ],
          "carpet": [
           {
            "aaxis": {
             "endlinecolor": "#2a3f5f",
             "gridcolor": "white",
             "linecolor": "white",
             "minorgridcolor": "white",
             "startlinecolor": "#2a3f5f"
            },
            "baxis": {
             "endlinecolor": "#2a3f5f",
             "gridcolor": "white",
             "linecolor": "white",
             "minorgridcolor": "white",
             "startlinecolor": "#2a3f5f"
            },
            "type": "carpet"
           }
          ],
          "choropleth": [
           {
            "colorbar": {
             "outlinewidth": 0,
             "ticks": ""
            },
            "type": "choropleth"
           }
          ],
          "contour": [
           {
            "colorbar": {
             "outlinewidth": 0,
             "ticks": ""
            },
            "colorscale": [
             [
              0,
              "#0d0887"
             ],
             [
              0.1111111111111111,
              "#46039f"
             ],
             [
              0.2222222222222222,
              "#7201a8"
             ],
             [
              0.3333333333333333,
              "#9c179e"
             ],
             [
              0.4444444444444444,
              "#bd3786"
             ],
             [
              0.5555555555555556,
              "#d8576b"
             ],
             [
              0.6666666666666666,
              "#ed7953"
             ],
             [
              0.7777777777777778,
              "#fb9f3a"
             ],
             [
              0.8888888888888888,
              "#fdca26"
             ],
             [
              1,
              "#f0f921"
             ]
            ],
            "type": "contour"
           }
          ],
          "contourcarpet": [
           {
            "colorbar": {
             "outlinewidth": 0,
             "ticks": ""
            },
            "type": "contourcarpet"
           }
          ],
          "heatmap": [
           {
            "colorbar": {
             "outlinewidth": 0,
             "ticks": ""
            },
            "colorscale": [
             [
              0,
              "#0d0887"
             ],
             [
              0.1111111111111111,
              "#46039f"
             ],
             [
              0.2222222222222222,
              "#7201a8"
             ],
             [
              0.3333333333333333,
              "#9c179e"
             ],
             [
              0.4444444444444444,
              "#bd3786"
             ],
             [
              0.5555555555555556,
              "#d8576b"
             ],
             [
              0.6666666666666666,
              "#ed7953"
             ],
             [
              0.7777777777777778,
              "#fb9f3a"
             ],
             [
              0.8888888888888888,
              "#fdca26"
             ],
             [
              1,
              "#f0f921"
             ]
            ],
            "type": "heatmap"
           }
          ],
          "heatmapgl": [
           {
            "colorbar": {
             "outlinewidth": 0,
             "ticks": ""
            },
            "colorscale": [
             [
              0,
              "#0d0887"
             ],
             [
              0.1111111111111111,
              "#46039f"
             ],
             [
              0.2222222222222222,
              "#7201a8"
             ],
             [
              0.3333333333333333,
              "#9c179e"
             ],
             [
              0.4444444444444444,
              "#bd3786"
             ],
             [
              0.5555555555555556,
              "#d8576b"
             ],
             [
              0.6666666666666666,
              "#ed7953"
             ],
             [
              0.7777777777777778,
              "#fb9f3a"
             ],
             [
              0.8888888888888888,
              "#fdca26"
             ],
             [
              1,
              "#f0f921"
             ]
            ],
            "type": "heatmapgl"
           }
          ],
          "histogram": [
           {
            "marker": {
             "pattern": {
              "fillmode": "overlay",
              "size": 10,
              "solidity": 0.2
             }
            },
            "type": "histogram"
           }
          ],
          "histogram2d": [
           {
            "colorbar": {
             "outlinewidth": 0,
             "ticks": ""
            },
            "colorscale": [
             [
              0,
              "#0d0887"
             ],
             [
              0.1111111111111111,
              "#46039f"
             ],
             [
              0.2222222222222222,
              "#7201a8"
             ],
             [
              0.3333333333333333,
              "#9c179e"
             ],
             [
              0.4444444444444444,
              "#bd3786"
             ],
             [
              0.5555555555555556,
              "#d8576b"
             ],
             [
              0.6666666666666666,
              "#ed7953"
             ],
             [
              0.7777777777777778,
              "#fb9f3a"
             ],
             [
              0.8888888888888888,
              "#fdca26"
             ],
             [
              1,
              "#f0f921"
             ]
            ],
            "type": "histogram2d"
           }
          ],
          "histogram2dcontour": [
           {
            "colorbar": {
             "outlinewidth": 0,
             "ticks": ""
            },
            "colorscale": [
             [
              0,
              "#0d0887"
             ],
             [
              0.1111111111111111,
              "#46039f"
             ],
             [
              0.2222222222222222,
              "#7201a8"
             ],
             [
              0.3333333333333333,
              "#9c179e"
             ],
             [
              0.4444444444444444,
              "#bd3786"
             ],
             [
              0.5555555555555556,
              "#d8576b"
             ],
             [
              0.6666666666666666,
              "#ed7953"
             ],
             [
              0.7777777777777778,
              "#fb9f3a"
             ],
             [
              0.8888888888888888,
              "#fdca26"
             ],
             [
              1,
              "#f0f921"
             ]
            ],
            "type": "histogram2dcontour"
           }
          ],
          "mesh3d": [
           {
            "colorbar": {
             "outlinewidth": 0,
             "ticks": ""
            },
            "type": "mesh3d"
           }
          ],
          "parcoords": [
           {
            "line": {
             "colorbar": {
              "outlinewidth": 0,
              "ticks": ""
             }
            },
            "type": "parcoords"
           }
          ],
          "pie": [
           {
            "automargin": true,
            "type": "pie"
           }
          ],
          "scatter": [
           {
            "fillpattern": {
             "fillmode": "overlay",
             "size": 10,
             "solidity": 0.2
            },
            "type": "scatter"
           }
          ],
          "scatter3d": [
           {
            "line": {
             "colorbar": {
              "outlinewidth": 0,
              "ticks": ""
             }
            },
            "marker": {
             "colorbar": {
              "outlinewidth": 0,
              "ticks": ""
             }
            },
            "type": "scatter3d"
           }
          ],
          "scattercarpet": [
           {
            "marker": {
             "colorbar": {
              "outlinewidth": 0,
              "ticks": ""
             }
            },
            "type": "scattercarpet"
           }
          ],
          "scattergeo": [
           {
            "marker": {
             "colorbar": {
              "outlinewidth": 0,
              "ticks": ""
             }
            },
            "type": "scattergeo"
           }
          ],
          "scattergl": [
           {
            "marker": {
             "colorbar": {
              "outlinewidth": 0,
              "ticks": ""
             }
            },
            "type": "scattergl"
           }
          ],
          "scattermapbox": [
           {
            "marker": {
             "colorbar": {
              "outlinewidth": 0,
              "ticks": ""
             }
            },
            "type": "scattermapbox"
           }
          ],
          "scatterpolar": [
           {
            "marker": {
             "colorbar": {
              "outlinewidth": 0,
              "ticks": ""
             }
            },
            "type": "scatterpolar"
           }
          ],
          "scatterpolargl": [
           {
            "marker": {
             "colorbar": {
              "outlinewidth": 0,
              "ticks": ""
             }
            },
            "type": "scatterpolargl"
           }
          ],
          "scatterternary": [
           {
            "marker": {
             "colorbar": {
              "outlinewidth": 0,
              "ticks": ""
             }
            },
            "type": "scatterternary"
           }
          ],
          "surface": [
           {
            "colorbar": {
             "outlinewidth": 0,
             "ticks": ""
            },
            "colorscale": [
             [
              0,
              "#0d0887"
             ],
             [
              0.1111111111111111,
              "#46039f"
             ],
             [
              0.2222222222222222,
              "#7201a8"
             ],
             [
              0.3333333333333333,
              "#9c179e"
             ],
             [
              0.4444444444444444,
              "#bd3786"
             ],
             [
              0.5555555555555556,
              "#d8576b"
             ],
             [
              0.6666666666666666,
              "#ed7953"
             ],
             [
              0.7777777777777778,
              "#fb9f3a"
             ],
             [
              0.8888888888888888,
              "#fdca26"
             ],
             [
              1,
              "#f0f921"
             ]
            ],
            "type": "surface"
           }
          ],
          "table": [
           {
            "cells": {
             "fill": {
              "color": "#EBF0F8"
             },
             "line": {
              "color": "white"
             }
            },
            "header": {
             "fill": {
              "color": "#C8D4E3"
             },
             "line": {
              "color": "white"
             }
            },
            "type": "table"
           }
          ]
         },
         "layout": {
          "annotationdefaults": {
           "arrowcolor": "#2a3f5f",
           "arrowhead": 0,
           "arrowwidth": 1
          },
          "autotypenumbers": "strict",
          "coloraxis": {
           "colorbar": {
            "outlinewidth": 0,
            "ticks": ""
           }
          },
          "colorscale": {
           "diverging": [
            [
             0,
             "#8e0152"
            ],
            [
             0.1,
             "#c51b7d"
            ],
            [
             0.2,
             "#de77ae"
            ],
            [
             0.3,
             "#f1b6da"
            ],
            [
             0.4,
             "#fde0ef"
            ],
            [
             0.5,
             "#f7f7f7"
            ],
            [
             0.6,
             "#e6f5d0"
            ],
            [
             0.7,
             "#b8e186"
            ],
            [
             0.8,
             "#7fbc41"
            ],
            [
             0.9,
             "#4d9221"
            ],
            [
             1,
             "#276419"
            ]
           ],
           "sequential": [
            [
             0,
             "#0d0887"
            ],
            [
             0.1111111111111111,
             "#46039f"
            ],
            [
             0.2222222222222222,
             "#7201a8"
            ],
            [
             0.3333333333333333,
             "#9c179e"
            ],
            [
             0.4444444444444444,
             "#bd3786"
            ],
            [
             0.5555555555555556,
             "#d8576b"
            ],
            [
             0.6666666666666666,
             "#ed7953"
            ],
            [
             0.7777777777777778,
             "#fb9f3a"
            ],
            [
             0.8888888888888888,
             "#fdca26"
            ],
            [
             1,
             "#f0f921"
            ]
           ],
           "sequentialminus": [
            [
             0,
             "#0d0887"
            ],
            [
             0.1111111111111111,
             "#46039f"
            ],
            [
             0.2222222222222222,
             "#7201a8"
            ],
            [
             0.3333333333333333,
             "#9c179e"
            ],
            [
             0.4444444444444444,
             "#bd3786"
            ],
            [
             0.5555555555555556,
             "#d8576b"
            ],
            [
             0.6666666666666666,
             "#ed7953"
            ],
            [
             0.7777777777777778,
             "#fb9f3a"
            ],
            [
             0.8888888888888888,
             "#fdca26"
            ],
            [
             1,
             "#f0f921"
            ]
           ]
          },
          "colorway": [
           "#636efa",
           "#EF553B",
           "#00cc96",
           "#ab63fa",
           "#FFA15A",
           "#19d3f3",
           "#FF6692",
           "#B6E880",
           "#FF97FF",
           "#FECB52"
          ],
          "font": {
           "color": "#2a3f5f"
          },
          "geo": {
           "bgcolor": "white",
           "lakecolor": "white",
           "landcolor": "#E5ECF6",
           "showlakes": true,
           "showland": true,
           "subunitcolor": "white"
          },
          "hoverlabel": {
           "align": "left"
          },
          "hovermode": "closest",
          "mapbox": {
           "style": "light"
          },
          "paper_bgcolor": "white",
          "plot_bgcolor": "#E5ECF6",
          "polar": {
           "angularaxis": {
            "gridcolor": "white",
            "linecolor": "white",
            "ticks": ""
           },
           "bgcolor": "#E5ECF6",
           "radialaxis": {
            "gridcolor": "white",
            "linecolor": "white",
            "ticks": ""
           }
          },
          "scene": {
           "xaxis": {
            "backgroundcolor": "#E5ECF6",
            "gridcolor": "white",
            "gridwidth": 2,
            "linecolor": "white",
            "showbackground": true,
            "ticks": "",
            "zerolinecolor": "white"
           },
           "yaxis": {
            "backgroundcolor": "#E5ECF6",
            "gridcolor": "white",
            "gridwidth": 2,
            "linecolor": "white",
            "showbackground": true,
            "ticks": "",
            "zerolinecolor": "white"
           },
           "zaxis": {
            "backgroundcolor": "#E5ECF6",
            "gridcolor": "white",
            "gridwidth": 2,
            "linecolor": "white",
            "showbackground": true,
            "ticks": "",
            "zerolinecolor": "white"
           }
          },
          "shapedefaults": {
           "line": {
            "color": "#2a3f5f"
           }
          },
          "ternary": {
           "aaxis": {
            "gridcolor": "white",
            "linecolor": "white",
            "ticks": ""
           },
           "baxis": {
            "gridcolor": "white",
            "linecolor": "white",
            "ticks": ""
           },
           "bgcolor": "#E5ECF6",
           "caxis": {
            "gridcolor": "white",
            "linecolor": "white",
            "ticks": ""
           }
          },
          "title": {
           "x": 0.05
          },
          "xaxis": {
           "automargin": true,
           "gridcolor": "white",
           "linecolor": "white",
           "ticks": "",
           "title": {
            "standoff": 15
           },
           "zerolinecolor": "white",
           "zerolinewidth": 2
          },
          "yaxis": {
           "automargin": true,
           "gridcolor": "white",
           "linecolor": "white",
           "ticks": "",
           "title": {
            "standoff": 15
           },
           "zerolinecolor": "white",
           "zerolinewidth": 2
          }
         }
        },
        "title": {
         "text": "Total Sales per city"
        },
        "xaxis": {
         "anchor": "y",
         "domain": [
          0,
          1
         ],
         "title": {
          "text": "City"
         }
        },
        "yaxis": {
         "anchor": "x",
         "domain": [
          0,
          1
         ],
         "title": {
          "text": "gross income"
         }
        }
       }
      }
     },
     "metadata": {},
     "output_type": "display_data"
    }
   ],
   "source": [
    "sales_per_country_figure = px.bar(df, x=\"City\", y=\"gross income\", title=\"Total Sales per city\") # Bar plot for total sales per city\n",
    "\n",
    "sales_per_country_figure.show()"
   ]
  },
  {
   "cell_type": "code",
   "execution_count": 52,
   "metadata": {},
   "outputs": [
    {
     "name": "stdout",
     "output_type": "stream",
     "text": [
      "Top 5 highest selling products: \n",
      "\n",
      "Product line\n",
      "Fashion accessories       178\n",
      "Food and beverages        174\n",
      "Electronic accessories    170\n",
      "Sports and travel         166\n",
      "Home and lifestyle        160\n",
      "Name: gross income, dtype: int64\n"
     ]
    }
   ],
   "source": [
    "product_sales = df.groupby(\"Product line\").count() # Group sales by the products lines\n",
    "\n",
    "top_5_product_sales = product_sales[\"gross income\"].sort_values(ascending=False)[:5]\n",
    "\n",
    "print(f\"Top 5 highest selling products: \\n\\n{top_5_product_sales}\")"
   ]
  },
  {
   "cell_type": "code",
   "execution_count": 53,
   "metadata": {},
   "outputs": [
    {
     "name": "stdout",
     "output_type": "stream",
     "text": [
      "[4.76 4.77 4.75 4.78 4.74 4.73]\n"
     ]
    }
   ],
   "source": [
    "df[\"Profit Margins\"] = ((df[\"Total\"] - df[\"cost price\"]) / df[\"Total\"]) * 100 # Create Profit Margins column\n",
    "df[\"Profit Margins\"] = df[\"Profit Margins\"].apply(round_off)\n",
    "\n",
    "print(df[\"Profit Margins\"].unique()) # Display unique profit margins"
   ]
  },
  {
   "cell_type": "markdown",
   "metadata": {},
   "source": [
    "## SARIMA Model"
   ]
  },
  {
   "cell_type": "code",
   "execution_count": 58,
   "metadata": {},
   "outputs": [
    {
     "name": "stdout",
     "output_type": "stream",
     "text": [
      "ADF Statistic: -6.510100786236292\n",
      "p-value: 1.1058908148855723e-08\n"
     ]
    }
   ],
   "source": [
    "def adf_test(timeseries):\n",
    "    # Tests if timeseries is statioary\n",
    "    result = adfuller(timeseries)\n",
    "    print(f\"ADF Statistic: {result[0]}\")\n",
    "    print(f\"p-value: {result[1]}\")\n",
    "    \n",
    "# Difference data\n",
    "new_df[\"gross income\"] = new_df[\"gross income\"].diff()\n",
    "\n",
    "adf_test(new_df[\"gross income\"].dropna())"
   ]
  },
  {
   "cell_type": "code",
   "execution_count": 59,
   "metadata": {},
   "outputs": [
    {
     "data": {
      "text/plain": [
       "<Figure size 1200x600 with 0 Axes>"
      ]
     },
     "metadata": {},
     "output_type": "display_data"
    },
    {
     "data": {
      "image/png": "[encoded data removed]",
      "text/plain": [
       "<Figure size 640x480 with 1 Axes>"
      ]
     },
     "metadata": {},
     "output_type": "display_data"
    }
   ],
   "source": [
    "# Determine p variable with Partial Autocorrelation Plot\n",
    "plt.figure(figsize=(12, 6))\n",
    "plot_pacf(new_df[\"Date\"])\n",
    "plt.xticks(np.arange(0,21, 1))\n",
    "plt.show() # p = 2"
   ]
  },
  {
   "cell_type": "code",
   "execution_count": 60,
   "metadata": {},
   "outputs": [
    {
     "data": {
      "application/vnd.plotly.v1+json": {
       "config": {
        "plotlyServerURL": "https://plot.ly"
       },
       "data": [
        {
         "hovertemplate": "Date=%{x}<br>gross income=%{y}<extra></extra>",
         "legendgroup": "",
         "line": {
          "color": "#636efa",
          "dash": "solid"
         },
         "marker": {
          "symbol": "circle"
         },
         "mode": "lines",
         "name": "",
         "orientation": "v",
         "showlegend": false,
         "type": "scatter",
         "x": [
          "2019-01-01T00:00:00",
          "2019-01-02T00:00:00",
          "2019-01-03T00:00:00",
          "2019-01-04T00:00:00",
          "2019-01-05T00:00:00",
          "2019-01-06T00:00:00",
          "2019-01-07T00:00:00",
          "2019-01-08T00:00:00",
          "2019-01-09T00:00:00",
          "2019-01-10T00:00:00",
          "2019-01-11T00:00:00",
          "2019-01-12T00:00:00",
          "2019-01-13T00:00:00",
          "2019-01-14T00:00:00",
          "2019-01-15T00:00:00",
          "2019-01-16T00:00:00",
          "2019-01-17T00:00:00",
          "2019-01-18T00:00:00",
          "2019-01-19T00:00:00",
          "2019-01-20T00:00:00",
          "2019-01-21T00:00:00",
          "2019-01-22T00:00:00",
          "2019-01-23T00:00:00",
          "2019-01-24T00:00:00",
          "2019-01-25T00:00:00",
          "2019-01-26T00:00:00",
          "2019-01-27T00:00:00",
          "2019-01-28T00:00:00",
          "2019-01-29T00:00:00",
          "2019-01-30T00:00:00",
          "2019-01-31T00:00:00",
          "2019-02-01T00:00:00",
          "2019-02-02T00:00:00",
          "2019-02-03T00:00:00",
          "2019-02-04T00:00:00",
          "2019-02-05T00:00:00",
          "2019-02-06T00:00:00",
          "2019-02-07T00:00:00",
          "2019-02-08T00:00:00",
          "2019-02-09T00:00:00",
          "2019-02-10T00:00:00",
          "2019-02-11T00:00:00",
          "2019-02-12T00:00:00",
          "2019-02-13T00:00:00",
          "2019-02-14T00:00:00",
          "2019-02-15T00:00:00",
          "2019-02-16T00:00:00",
          "2019-02-17T00:00:00",
          "2019-02-18T00:00:00",
          "2019-02-19T00:00:00",
          "2019-02-20T00:00:00",
          "2019-02-21T00:00:00",
          "2019-02-22T00:00:00",
          "2019-02-23T00:00:00",
          "2019-02-24T00:00:00",
          "2019-02-25T00:00:00",
          "2019-02-26T00:00:00",
          "2019-02-27T00:00:00",
          "2019-02-28T00:00:00",
          "2019-03-01T00:00:00",
          "2019-03-02T00:00:00",
          "2019-03-03T00:00:00",
          "2019-03-04T00:00:00",
          "2019-03-05T00:00:00",
          "2019-03-06T00:00:00",
          "2019-03-07T00:00:00",
          "2019-03-08T00:00:00",
          "2019-03-09T00:00:00",
          "2019-03-10T00:00:00",
          "2019-03-11T00:00:00",
          "2019-03-12T00:00:00",
          "2019-03-13T00:00:00",
          "2019-03-14T00:00:00",
          "2019-03-15T00:00:00",
          "2019-03-16T00:00:00",
          "2019-03-17T00:00:00",
          "2019-03-18T00:00:00",
          "2019-03-19T00:00:00",
          "2019-03-20T00:00:00",
          "2019-03-21T00:00:00",
          "2019-03-22T00:00:00",
          "2019-03-23T00:00:00",
          "2019-03-24T00:00:00",
          "2019-03-25T00:00:00",
          "2019-03-26T00:00:00",
          "2019-03-27T00:00:00",
          "2019-03-28T00:00:00",
          "2019-03-29T00:00:00",
          "2019-03-30T00:00:00"
         ],
         "xaxis": "x",
         "y": [
          null,
          null,
          -12.249999999999986,
          107.5,
          12.069999999999979,
          -115.99999999999997,
          102.78999999999999,
          160.20000000000002,
          -451.89000000000004,
          255.95000000000005,
          13.34999999999998,
          17.610000000000014,
          -10.240000000000009,
          51.04000000000002,
          -114.82,
          -37.37000000000003,
          129.72000000000003,
          -173.18,
          169.57,
          -71.25999999999998,
          -25.920000000000016,
          19.030000000000015,
          173.81,
          -181.52,
          54.390000000000015,
          16.700000000000017,
          -148.97000000000003,
          156.18,
          -91.54999999999998,
          2.6599999999999824,
          206.78000000000003,
          -314.72,
          237.79000000000002,
          -67.75999999999998,
          -80.37,
          38.389999999999986,
          -5.450000000000003,
          270.40999999999997,
          -469.27,
          336.43,
          -183.20000000000005,
          52.84000000000003,
          -14.080000000000027,
          47.170000000000016,
          -32.58,
          240.69,
          -399.28,
          208.3,
          -92.6,
          195.79000000000002,
          -145.42000000000002,
          -130.70999999999998,
          196.51,
          -83.95,
          73.97999999999999,
          143.39000000000004,
          -354,
          212.52,
          -109.15000000000002,
          66.09000000000002,
          118.60000000000001,
          -130.76,
          41.03999999999999,
          -23.390000000000043,
          -69.48999999999992,
          27.529999999999973,
          51.879999999999995,
          123.23000000000002,
          -312.75,
          226.24,
          -69.42999999999998,
          -10.740000000000038,
          113.66,
          -224.05999999999997,
          211.95999999999998,
          -189.01,
          153.83,
          63.60999999999999,
          15.920000000000016,
          -349.34000000000003,
          301.23,
          -104.41999999999999,
          149.72,
          -192.97,
          92.57,
          -83.92,
          72.22,
          95.58,
          -120.00999999999999
         ],
         "yaxis": "y"
        }
       ],
       "layout": {
        "legend": {
         "tracegroupgap": 0
        },
        "template": {
         "data": {
          "bar": [
           {
            "error_x": {
             "color": "#2a3f5f"
            },
            "error_y": {
             "color": "#2a3f5f"
            },
            "marker": {
             "line": {
              "color": "#E5ECF6",
              "width": 0.5
             },
             "pattern": {
              "fillmode": "overlay",
              "size": 10,
              "solidity": 0.2
             }
            },
            "type": "bar"
           }
          ],
          "barpolar": [
           {
            "marker": {
             "line": {
              "color": "#E5ECF6",
              "width": 0.5
             },
             "pattern": {
              "fillmode": "overlay",
              "size": 10,
              "solidity": 0.2
             }
            },
            "type": "barpolar"
           }
          ],
          "carpet": [
           {
            "aaxis": {
             "endlinecolor": "#2a3f5f",
             "gridcolor": "white",
             "linecolor": "white",
             "minorgridcolor": "white",
             "startlinecolor": "#2a3f5f"
            },
            "baxis": {
             "endlinecolor": "#2a3f5f",
             "gridcolor": "white",
             "linecolor": "white",
             "minorgridcolor": "white",
             "startlinecolor": "#2a3f5f"
            },
            "type": "carpet"
           }
          ],
          "choropleth": [
           {
            "colorbar": {
             "outlinewidth": 0,
             "ticks": ""
            },
            "type": "choropleth"
           }
          ],
          "contour": [
           {
            "colorbar": {
             "outlinewidth": 0,
             "ticks": ""
            },
            "colorscale": [
             [
              0,
              "#0d0887"
             ],
             [
              0.1111111111111111,
              "#46039f"
             ],
             [
              0.2222222222222222,
              "#7201a8"
             ],
             [
              0.3333333333333333,
              "#9c179e"
             ],
             [
              0.4444444444444444,
              "#bd3786"
             ],
             [
              0.5555555555555556,
              "#d8576b"
             ],
             [
              0.6666666666666666,
              "#ed7953"
             ],
             [
              0.7777777777777778,
              "#fb9f3a"
             ],
             [
              0.8888888888888888,
              "#fdca26"
             ],
             [
              1,
              "#f0f921"
             ]
            ],
            "type": "contour"
           }
          ],
          "contourcarpet": [
           {
            "colorbar": {
             "outlinewidth": 0,
             "ticks": ""
            },
            "type": "contourcarpet"
           }
          ],
          "heatmap": [
           {
            "colorbar": {
             "outlinewidth": 0,
             "ticks": ""
            },
            "colorscale": [
             [
              0,
              "#0d0887"
             ],
             [
              0.1111111111111111,
              "#46039f"
             ],
             [
              0.2222222222222222,
              "#7201a8"
             ],
             [
              0.3333333333333333,
              "#9c179e"
             ],
             [
              0.4444444444444444,
              "#bd3786"
             ],
             [
              0.5555555555555556,
              "#d8576b"
             ],
             [
              0.6666666666666666,
              "#ed7953"
             ],
             [
              0.7777777777777778,
              "#fb9f3a"
             ],
             [
              0.8888888888888888,
              "#fdca26"
             ],
             [
              1,
              "#f0f921"
             ]
            ],
            "type": "heatmap"
           }
          ],
          "heatmapgl": [
           {
            "colorbar": {
             "outlinewidth": 0,
             "ticks": ""
            },
            "colorscale": [
             [
              0,
              "#0d0887"
             ],
             [
              0.1111111111111111,
              "#46039f"
             ],
             [
              0.2222222222222222,
              "#7201a8"
             ],
             [
              0.3333333333333333,
              "#9c179e"
             ],
             [
              0.4444444444444444,
              "#bd3786"
             ],
             [
              0.5555555555555556,
              "#d8576b"
             ],
             [
              0.6666666666666666,
              "#ed7953"
             ],
             [
              0.7777777777777778,
              "#fb9f3a"
             ],
             [
              0.8888888888888888,
              "#fdca26"
             ],
             [
              1,
              "#f0f921"
             ]
            ],
            "type": "heatmapgl"
           }
          ],
          "histogram": [
           {
            "marker": {
             "pattern": {
              "fillmode": "overlay",
              "size": 10,
              "solidity": 0.2
             }
            },
            "type": "histogram"
           }
          ],
          "histogram2d": [
           {
            "colorbar": {
             "outlinewidth": 0,
             "ticks": ""
            },
            "colorscale": [
             [
              0,
              "#0d0887"
             ],
             [
              0.1111111111111111,
              "#46039f"
             ],
             [
              0.2222222222222222,
              "#7201a8"
             ],
             [
              0.3333333333333333,
              "#9c179e"
             ],
             [
              0.4444444444444444,
              "#bd3786"
             ],
             [
              0.5555555555555556,
              "#d8576b"
             ],
             [
              0.6666666666666666,
              "#ed7953"
             ],
             [
              0.7777777777777778,
              "#fb9f3a"
             ],
             [
              0.8888888888888888,
              "#fdca26"
             ],
             [
              1,
              "#f0f921"
             ]
            ],
            "type": "histogram2d"
           }
          ],
          "histogram2dcontour": [
           {
            "colorbar": {
             "outlinewidth": 0,
             "ticks": ""
            },
            "colorscale": [
             [
              0,
              "#0d0887"
             ],
             [
              0.1111111111111111,
              "#46039f"
             ],
             [
              0.2222222222222222,
              "#7201a8"
             ],
             [
              0.3333333333333333,
              "#9c179e"
             ],
             [
              0.4444444444444444,
              "#bd3786"
             ],
             [
              0.5555555555555556,
              "#d8576b"
             ],
             [
              0.6666666666666666,
              "#ed7953"
             ],
             [
              0.7777777777777778,
              "#fb9f3a"
             ],
             [
              0.8888888888888888,
              "#fdca26"
             ],
             [
              1,
              "#f0f921"
             ]
            ],
            "type": "histogram2dcontour"
           }
          ],
          "mesh3d": [
           {
            "colorbar": {
             "outlinewidth": 0,
             "ticks": ""
            },
            "type": "mesh3d"
           }
          ],
          "parcoords": [
           {
            "line": {
             "colorbar": {
              "outlinewidth": 0,
              "ticks": ""
             }
            },
            "type": "parcoords"
           }
          ],
          "pie": [
           {
            "automargin": true,
            "type": "pie"
           }
          ],
          "scatter": [
           {
            "fillpattern": {
             "fillmode": "overlay",
             "size": 10,
             "solidity": 0.2
            },
            "type": "scatter"
           }
          ],
          "scatter3d": [
           {
            "line": {
             "colorbar": {
              "outlinewidth": 0,
              "ticks": ""
             }
            },
            "marker": {
             "colorbar": {
              "outlinewidth": 0,
              "ticks": ""
             }
            },
            "type": "scatter3d"
           }
          ],
          "scattercarpet": [
           {
            "marker": {
             "colorbar": {
              "outlinewidth": 0,
              "ticks": ""
             }
            },
            "type": "scattercarpet"
           }
          ],
          "scattergeo": [
           {
            "marker": {
             "colorbar": {
              "outlinewidth": 0,
              "ticks": ""
             }
            },
            "type": "scattergeo"
           }
          ],
          "scattergl": [
           {
            "marker": {
             "colorbar": {
              "outlinewidth": 0,
              "ticks": ""
             }
            },
            "type": "scattergl"
           }
          ],
          "scattermapbox": [
           {
            "marker": {
             "colorbar": {
              "outlinewidth": 0,
              "ticks": ""
             }
            },
            "type": "scattermapbox"
           }
          ],
          "scatterpolar": [
           {
            "marker": {
             "colorbar": {
              "outlinewidth": 0,
              "ticks": ""
             }
            },
            "type": "scatterpolar"
           }
          ],
          "scatterpolargl": [
           {
            "marker": {
             "colorbar": {
              "outlinewidth": 0,
              "ticks": ""
             }
            },
            "type": "scatterpolargl"
           }
          ],
          "scatterternary": [
           {
            "marker": {
             "colorbar": {
              "outlinewidth": 0,
              "ticks": ""
             }
            },
            "type": "scatterternary"
           }
          ],
          "surface": [
           {
            "colorbar": {
             "outlinewidth": 0,
             "ticks": ""
            },
            "colorscale": [
             [
              0,
              "#0d0887"
             ],
             [
              0.1111111111111111,
              "#46039f"
             ],
             [
              0.2222222222222222,
              "#7201a8"
             ],
             [
              0.3333333333333333,
              "#9c179e"
             ],
             [
              0.4444444444444444,
              "#bd3786"
             ],
             [
              0.5555555555555556,
              "#d8576b"
             ],
             [
              0.6666666666666666,
              "#ed7953"
             ],
             [
              0.7777777777777778,
              "#fb9f3a"
             ],
             [
              0.8888888888888888,
              "#fdca26"
             ],
             [
              1,
              "#f0f921"
             ]
            ],
            "type": "surface"
           }
          ],
          "table": [
           {
            "cells": {
             "fill": {
              "color": "#EBF0F8"
             },
             "line": {
              "color": "white"
             }
            },
            "header": {
             "fill": {
              "color": "#C8D4E3"
             },
             "line": {
              "color": "white"
             }
            },
            "type": "table"
           }
          ]
         },
         "layout": {
          "annotationdefaults": {
           "arrowcolor": "#2a3f5f",
           "arrowhead": 0,
           "arrowwidth": 1
          },
          "autotypenumbers": "strict",
          "coloraxis": {
           "colorbar": {
            "outlinewidth": 0,
            "ticks": ""
           }
          },
          "colorscale": {
           "diverging": [
            [
             0,
             "#8e0152"
            ],
            [
             0.1,
             "#c51b7d"
            ],
            [
             0.2,
             "#de77ae"
            ],
            [
             0.3,
             "#f1b6da"
            ],
            [
             0.4,
             "#fde0ef"
            ],
            [
             0.5,
             "#f7f7f7"
            ],
            [
             0.6,
             "#e6f5d0"
            ],
            [
             0.7,
             "#b8e186"
            ],
            [
             0.8,
             "#7fbc41"
            ],
            [
             0.9,
             "#4d9221"
            ],
            [
             1,
             "#276419"
            ]
           ],
           "sequential": [
            [
             0,
             "#0d0887"
            ],
            [
             0.1111111111111111,
             "#46039f"
            ],
            [
             0.2222222222222222,
             "#7201a8"
            ],
            [
             0.3333333333333333,
             "#9c179e"
            ],
            [
             0.4444444444444444,
             "#bd3786"
            ],
            [
             0.5555555555555556,
             "#d8576b"
            ],
            [
             0.6666666666666666,
             "#ed7953"
            ],
            [
             0.7777777777777778,
             "#fb9f3a"
            ],
            [
             0.8888888888888888,
             "#fdca26"
            ],
            [
             1,
             "#f0f921"
            ]
           ],
           "sequentialminus": [
            [
             0,
             "#0d0887"
            ],
            [
             0.1111111111111111,
             "#46039f"
            ],
            [
             0.2222222222222222,
             "#7201a8"
            ],
            [
             0.3333333333333333,
             "#9c179e"
            ],
            [
             0.4444444444444444,
             "#bd3786"
            ],
            [
             0.5555555555555556,
             "#d8576b"
            ],
            [
             0.6666666666666666,
             "#ed7953"
            ],
            [
             0.7777777777777778,
             "#fb9f3a"
            ],
            [
             0.8888888888888888,
             "#fdca26"
            ],
            [
             1,
             "#f0f921"
            ]
           ]
          },
          "colorway": [
           "#636efa",
           "#EF553B",
           "#00cc96",
           "#ab63fa",
           "#FFA15A",
           "#19d3f3",
           "#FF6692",
           "#B6E880",
           "#FF97FF",
           "#FECB52"
          ],
          "font": {
           "color": "#2a3f5f"
          },
          "geo": {
           "bgcolor": "white",
           "lakecolor": "white",
           "landcolor": "#E5ECF6",
           "showlakes": true,
           "showland": true,
           "subunitcolor": "white"
          },
          "hoverlabel": {
           "align": "left"
          },
          "hovermode": "closest",
          "mapbox": {
           "style": "light"
          },
          "paper_bgcolor": "white",
          "plot_bgcolor": "#E5ECF6",
          "polar": {
           "angularaxis": {
            "gridcolor": "white",
            "linecolor": "white",
            "ticks": ""
           },
           "bgcolor": "#E5ECF6",
           "radialaxis": {
            "gridcolor": "white",
            "linecolor": "white",
            "ticks": ""
           }
          },
          "scene": {
           "xaxis": {
            "backgroundcolor": "#E5ECF6",
            "gridcolor": "white",
            "gridwidth": 2,
            "linecolor": "white",
            "showbackground": true,
            "ticks": "",
            "zerolinecolor": "white"
           },
           "yaxis": {
            "backgroundcolor": "#E5ECF6",
            "gridcolor": "white",
            "gridwidth": 2,
            "linecolor": "white",
            "showbackground": true,
            "ticks": "",
            "zerolinecolor": "white"
           },
           "zaxis": {
            "backgroundcolor": "#E5ECF6",
            "gridcolor": "white",
            "gridwidth": 2,
            "linecolor": "white",
            "showbackground": true,
            "ticks": "",
            "zerolinecolor": "white"
           }
          },
          "shapedefaults": {
           "line": {
            "color": "#2a3f5f"
           }
          },
          "ternary": {
           "aaxis": {
            "gridcolor": "white",
            "linecolor": "white",
            "ticks": ""
           },
           "baxis": {
            "gridcolor": "white",
            "linecolor": "white",
            "ticks": ""
           },
           "bgcolor": "#E5ECF6",
           "caxis": {
            "gridcolor": "white",
            "linecolor": "white",
            "ticks": ""
           }
          },
          "title": {
           "x": 0.05
          },
          "xaxis": {
           "automargin": true,
           "gridcolor": "white",
           "linecolor": "white",
           "ticks": "",
           "title": {
            "standoff": 15
           },
           "zerolinecolor": "white",
           "zerolinewidth": 2
          },
          "yaxis": {
           "automargin": true,
           "gridcolor": "white",
           "linecolor": "white",
           "ticks": "",
           "title": {
            "standoff": 15
           },
           "zerolinecolor": "white",
           "zerolinewidth": 2
          }
         }
        },
        "title": {
         "text": "Overall Trend of gross income"
        },
        "xaxis": {
         "anchor": "y",
         "domain": [
          0,
          1
         ],
         "title": {
          "text": "Date"
         }
        },
        "yaxis": {
         "anchor": "x",
         "domain": [
          0,
          1
         ],
         "title": {
          "text": "gross income"
         }
        }
       }
      }
     },
     "metadata": {},
     "output_type": "display_data"
    }
   ],
   "source": [
    "# Determine d variable by observing trend of data\n",
    "overall_trend_fig = px.line(new_df, x=\"Date\", y=\"gross income\", title=\"Overall Trend of gross income\")\n",
    "overall_trend_fig.show() # d = 1"
   ]
  },
  {
   "cell_type": "code",
   "execution_count": 62,
   "metadata": {},
   "outputs": [
    {
     "name": "stdout",
     "output_type": "stream",
     "text": [
      "                               SARIMAX Results                                \n",
      "==============================================================================\n",
      "Dep. Variable:           gross income   No. Observations:                   89\n",
      "Model:                 ARIMA(2, 1, 1)   Log Likelihood                -536.445\n",
      "Date:                Fri, 11 Oct 2024   AIC                           1080.891\n",
      "Time:                        12:15:10   BIC                           1090.800\n",
      "Sample:                             0   HQIC                          1084.883\n",
      "                                 - 89                                         \n",
      "Covariance Type:                  opg                                         \n",
      "==============================================================================\n",
      "                 coef    std err          z      P>|z|      [0.025      0.975]\n",
      "------------------------------------------------------------------------------\n",
      "ar.L1         -1.0110      0.102     -9.891      0.000      -1.211      -0.811\n",
      "ar.L2         -0.4563      0.102     -4.471      0.000      -0.656      -0.256\n",
      "ma.L1         -0.9998     22.753     -0.044      0.965     -45.595      43.595\n",
      "sigma2      1.172e+04   2.67e+05      0.044      0.965   -5.11e+05    5.35e+05\n",
      "===================================================================================\n",
      "Ljung-Box (L1) (Q):                   1.97   Jarque-Bera (JB):                 0.90\n",
      "Prob(Q):                              0.16   Prob(JB):                         0.64\n",
      "Heteroskedasticity (H):               1.30   Skew:                             0.00\n",
      "Prob(H) (two-sided):                  0.48   Kurtosis:                         3.49\n",
      "===================================================================================\n",
      "\n",
      "Warnings:\n",
      "[1] Covariance matrix calculated using the outer product of gradients (complex-step).\n"
     ]
    }
   ],
   "source": [
    "arima_model = ARIMA(new_df[\"gross income\"], order=(2, 1, 1)) # Create ARIMA model\n",
    "arima_model_fitted = arima_model.fit() # Fit the model\n",
    "\n",
    "print(arima_model_fitted.summary())"
   ]
  },
  {
   "cell_type": "code",
   "execution_count": 63,
   "metadata": {},
   "outputs": [],
   "source": [
    "arima_forecast = arima_model_fitted.get_forecast(steps=10) # ARIMA Forecast\n",
    "arima_forecast_values = arima_model_fitted.forecast(steps=10).values\n",
    "\n",
    "# Get confidence interval and forecast mean\n",
    "forecast_mean = arima_forecast.predicted_mean\n",
    "confidence_intervals = arima_forecast.conf_int()\n",
    "\n",
    "# Get lower and upper confidence intervals\n",
    "lower_limits = confidence_intervals.iloc[:, 0]\n",
    "upper_limits = confidence_intervals.iloc[:, 1]"
   ]
  },
  {
   "cell_type": "code",
   "execution_count": 64,
   "metadata": {},
   "outputs": [
    {
     "data": {
      "text/plain": [
       "[]"
      ]
     },
     "execution_count": 64,
     "metadata": {},
     "output_type": "execute_result"
    },
    {
     "data": {
      "image/png": "[encoded data removed]",
      "text/plain": [
       "<Figure size 1200x600 with 1 Axes>"
      ]
     },
     "metadata": {},
     "output_type": "display_data"
    }
   ],
   "source": [
    "# Plot Forecast with Confidence Interval\n",
    "forecast_index = pd.date_range(new_df[\"Date\"].iloc[-1], periods=10 + 1, freq='D')[1:]\n",
    "plt.figure(figsize=(12, 6))\n",
    "sns.lineplot(x=new_df[\"Date\"], y=new_df[\"gross income\"], label=\"Historical Data\")\n",
    "sns.lineplot(x=forecast_index, y=arima_forecast_values, label=\"Forecast (ARIMA)\")\n",
    "plt.fill_between(forecast_index, lower_limits, upper_limits, color='pink', alpha=0.3, label='Confidence Interval')\n",
    "plt.title(\"Forecasted Sales\")\n",
    "plt.legend()\n",
    "plt.plot()"
   ]
  },
  {
   "cell_type": "code",
   "execution_count": 66,
   "metadata": {},
   "outputs": [],
   "source": [
    "# Create new ARIMA DataFrame\n",
    "arima_df = pd.DataFrame(forecast_index)\n",
    "arima_df.rename(columns={0 : \"Date\"}, inplace=True)\n",
    "arima_df[\"ARIMA Forecast\"] = arima_forecast_values # Add arima forecast values\n",
    "\n",
    "# Add DataFrames to csv files\n",
    "df.to_csv(\"processed.csv\", index=False)\n",
    "arima_df.to_csv(\"ARIMA_data.csv\", index=False)\n",
    "new_df.to_csv(\"timeseries_data.csv\", index=False)"
   ]
  }
 ],
 "metadata": {
  "kernelspec": {
   "display_name": "Python 3",
   "language": "python",
   "name": "python3"
  },
  "language_info": {
   "codemirror_mode": {
    "name": "ipython",
    "version": 3
   },
   "file_extension": ".py",
   "mimetype": "text/x-python",
   "name": "python",
   "nbconvert_exporter": "python",
   "pygments_lexer": "ipython3",
   "version": "3.12.2"
  }
 },
 "nbformat": 4,
 "nbformat_minor": 2
}
